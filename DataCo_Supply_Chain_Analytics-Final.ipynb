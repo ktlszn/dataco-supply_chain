{
  "cells": [
    {
      "cell_type": "markdown",
      "source": [
        "**Improving Supply Chain Management by Machine Learning Applications: DataCo Global Case Study**"
      ],
      "metadata": {
        "id": "169-QN3dNEY1"
      }
    },
    {
      "cell_type": "markdown",
      "metadata": {
        "id": "QYBxGZrb1Cl-"
      },
      "source": [
        "#### Importing Dataset and Libraries"
      ]
    },
    {
      "cell_type": "code",
      "source": [
        "from google.colab import drive #library to import file directly from google drive \n",
        "drive.mount('/content/drive')"
      ],
      "metadata": {
        "colab": {
          "base_uri": "https://localhost:8080/"
        },
        "id": "IzbtAgcK0cF0",
        "outputId": "d04e3945-fcff-4244-b25e-6f7b4cd82e51"
      },
      "execution_count": 1,
      "outputs": [
        {
          "output_type": "stream",
          "name": "stdout",
          "text": [
            "Mounted at /content/drive\n"
          ]
        }
      ]
    },
    {
      "cell_type": "code",
      "execution_count": 2,
      "metadata": {
        "id": "qU05DAC81CmL"
      },
      "outputs": [],
      "source": [
        "import pandas as pd # data analysis and mmanipulation library\n",
        "import numpy as np # library to work with arrays and matrices\n",
        "\n",
        "# Multiple outputs for Jupyter Notebook cells\n",
        "from IPython.core.interactiveshell import InteractiveShell\n",
        "InteractiveShell.ast_node_interactivity = \"all\"\n",
        "\n",
        "#Data Visualization Libraries  \n",
        "import seaborn as sns\n",
        "import matplotlib.pyplot as plt\n",
        "\n",
        "#Machine Learning Libraries\n",
        "from sklearn.preprocessing import MinMaxScaler, StandardScaler, LabelEncoder\n",
        "\n",
        "from sklearn.linear_model import LinearRegression, LogisticRegression\n",
        "from sklearn.neighbors import KNeighborsClassifier\n",
        "from sklearn.ensemble import RandomForestClassifier\n",
        "from sklearn.tree import DecisionTreeRegressor\n",
        "from sklearn.naive_bayes import GaussianNB\n",
        "\n",
        "from sklearn.pipeline import make_pipeline\n",
        "from sklearn.model_selection import train_test_split, cross_val_score, KFold, StratifiedKFold, ShuffleSplit\n",
        "from sklearn.metrics import r2_score, confusion_matrix, accuracy_score, plot_roc_curve, classification_report\n",
        "\n",
        "import warnings\n",
        "warnings.filterwarnings('ignore')"
      ]
    },
    {
      "cell_type": "code",
      "execution_count": 3,
      "metadata": {
        "id": "q4burHrx1CmQ"
      },
      "outputs": [],
      "source": [
        "df = pd.read_csv(\"/content/drive/MyDrive/Classroom/DAB402 - CAPSTONE PROJECT DAB4A/DataCoSupplyChainDataset.csv\", encoding='latin-1')"
      ]
    },
    {
      "cell_type": "code",
      "execution_count": 4,
      "metadata": {
        "colab": {
          "base_uri": "https://localhost:8080/"
        },
        "id": "Afs2k9Tc1CmR",
        "outputId": "f3a6fc16-18fb-4235-fd1c-dd4b5ba2916f"
      },
      "outputs": [
        {
          "output_type": "execute_result",
          "data": {
            "text/plain": [
              "(180519, 53)"
            ]
          },
          "metadata": {},
          "execution_count": 4
        }
      ],
      "source": [
        "df.shape #number of observations and attributes  "
      ]
    },
    {
      "cell_type": "code",
      "execution_count": 5,
      "metadata": {
        "colab": {
          "base_uri": "https://localhost:8080/",
          "height": 1000
        },
        "id": "ENlzC-aG1CmU",
        "outputId": "9fd1f379-03d6-4ce3-8a09-93c648ab853b"
      },
      "outputs": [
        {
          "output_type": "execute_result",
          "data": {
            "text/plain": [
              "                                                                          0  \\\n",
              "Type                                                                  DEBIT   \n",
              "Days for shipping (real)                                                  3   \n",
              "Days for shipment (scheduled)                                             4   \n",
              "Benefit per order                                                     91.25   \n",
              "Sales per customer                                               314.640015   \n",
              "Delivery Status                                            Advance shipping   \n",
              "Late_delivery_risk                                                        0   \n",
              "Category Id                                                              73   \n",
              "Category Name                                                Sporting Goods   \n",
              "Customer City                                                        Caguas   \n",
              "Customer Country                                                Puerto Rico   \n",
              "Customer Email                                                    XXXXXXXXX   \n",
              "Customer Fname                                                        Cally   \n",
              "Customer Id                                                           20755   \n",
              "Customer Lname                                                     Holloway   \n",
              "Customer Password                                                 XXXXXXXXX   \n",
              "Customer Segment                                                   Consumer   \n",
              "Customer State                                                           PR   \n",
              "Customer Street                                    5365 Noble Nectar Island   \n",
              "Customer Zipcode                                                      725.0   \n",
              "Department Id                                                             2   \n",
              "Department Name                                                     Fitness   \n",
              "Latitude                                                          18.251453   \n",
              "Longitude                                                        -66.037056   \n",
              "Market                                                         Pacific Asia   \n",
              "Order City                                                           Bekasi   \n",
              "Order Country                                                     Indonesia   \n",
              "Order Customer Id                                                     20755   \n",
              "order date (DateOrders)                                     1/31/2018 22:56   \n",
              "Order Id                                                              77202   \n",
              "Order Item Cardprod Id                                                 1360   \n",
              "Order Item Discount                                                   13.11   \n",
              "Order Item Discount Rate                                               0.04   \n",
              "Order Item Id                                                        180517   \n",
              "Order Item Product Price                                             327.75   \n",
              "Order Item Profit Ratio                                                0.29   \n",
              "Order Item Quantity                                                       1   \n",
              "Sales                                                                327.75   \n",
              "Order Item Total                                                 314.640015   \n",
              "Order Profit Per Order                                                91.25   \n",
              "Order Region                                                 Southeast Asia   \n",
              "Order State                                                 Java Occidental   \n",
              "Order Status                                                       COMPLETE   \n",
              "Order Zipcode                                                           NaN   \n",
              "Product Card Id                                                        1360   \n",
              "Product Category Id                                                      73   \n",
              "Product Description                                                     NaN   \n",
              "Product Image                  http://images.acmesports.sports/Smart+watch    \n",
              "Product Name                                                   Smart watch    \n",
              "Product Price                                                        327.75   \n",
              "Product Status                                                            0   \n",
              "shipping date (DateOrders)                                   2/3/2018 22:56   \n",
              "Shipping Mode                                                Standard Class   \n",
              "\n",
              "                                                                          1  \\\n",
              "Type                                                               TRANSFER   \n",
              "Days for shipping (real)                                                  5   \n",
              "Days for shipment (scheduled)                                             4   \n",
              "Benefit per order                                               -249.089996   \n",
              "Sales per customer                                               311.359985   \n",
              "Delivery Status                                               Late delivery   \n",
              "Late_delivery_risk                                                        1   \n",
              "Category Id                                                              73   \n",
              "Category Name                                                Sporting Goods   \n",
              "Customer City                                                        Caguas   \n",
              "Customer Country                                                Puerto Rico   \n",
              "Customer Email                                                    XXXXXXXXX   \n",
              "Customer Fname                                                        Irene   \n",
              "Customer Id                                                           19492   \n",
              "Customer Lname                                                         Luna   \n",
              "Customer Password                                                 XXXXXXXXX   \n",
              "Customer Segment                                                   Consumer   \n",
              "Customer State                                                           PR   \n",
              "Customer Street                                            2679 Rustic Loop   \n",
              "Customer Zipcode                                                      725.0   \n",
              "Department Id                                                             2   \n",
              "Department Name                                                     Fitness   \n",
              "Latitude                                                          18.279451   \n",
              "Longitude                                                        -66.037064   \n",
              "Market                                                         Pacific Asia   \n",
              "Order City                                                          Bikaner   \n",
              "Order Country                                                         India   \n",
              "Order Customer Id                                                     19492   \n",
              "order date (DateOrders)                                     1/13/2018 12:27   \n",
              "Order Id                                                              75939   \n",
              "Order Item Cardprod Id                                                 1360   \n",
              "Order Item Discount                                               16.389999   \n",
              "Order Item Discount Rate                                               0.05   \n",
              "Order Item Id                                                        179254   \n",
              "Order Item Product Price                                             327.75   \n",
              "Order Item Profit Ratio                                                -0.8   \n",
              "Order Item Quantity                                                       1   \n",
              "Sales                                                                327.75   \n",
              "Order Item Total                                                 311.359985   \n",
              "Order Profit Per Order                                          -249.089996   \n",
              "Order Region                                                     South Asia   \n",
              "Order State                                                        Rajastán   \n",
              "Order Status                                                        PENDING   \n",
              "Order Zipcode                                                           NaN   \n",
              "Product Card Id                                                        1360   \n",
              "Product Category Id                                                      73   \n",
              "Product Description                                                     NaN   \n",
              "Product Image                  http://images.acmesports.sports/Smart+watch    \n",
              "Product Name                                                   Smart watch    \n",
              "Product Price                                                        327.75   \n",
              "Product Status                                                            0   \n",
              "shipping date (DateOrders)                                  1/18/2018 12:27   \n",
              "Shipping Mode                                                Standard Class   \n",
              "\n",
              "                                                                          2  \\\n",
              "Type                                                                   CASH   \n",
              "Days for shipping (real)                                                  4   \n",
              "Days for shipment (scheduled)                                             4   \n",
              "Benefit per order                                               -247.779999   \n",
              "Sales per customer                                               309.720001   \n",
              "Delivery Status                                            Shipping on time   \n",
              "Late_delivery_risk                                                        0   \n",
              "Category Id                                                              73   \n",
              "Category Name                                                Sporting Goods   \n",
              "Customer City                                                      San Jose   \n",
              "Customer Country                                                    EE. UU.   \n",
              "Customer Email                                                    XXXXXXXXX   \n",
              "Customer Fname                                                      Gillian   \n",
              "Customer Id                                                           19491   \n",
              "Customer Lname                                                    Maldonado   \n",
              "Customer Password                                                 XXXXXXXXX   \n",
              "Customer Segment                                                   Consumer   \n",
              "Customer State                                                           CA   \n",
              "Customer Street                                        8510 Round Bear Gate   \n",
              "Customer Zipcode                                                    95125.0   \n",
              "Department Id                                                             2   \n",
              "Department Name                                                     Fitness   \n",
              "Latitude                                                          37.292233   \n",
              "Longitude                                                       -121.881279   \n",
              "Market                                                         Pacific Asia   \n",
              "Order City                                                          Bikaner   \n",
              "Order Country                                                         India   \n",
              "Order Customer Id                                                     19491   \n",
              "order date (DateOrders)                                     1/13/2018 12:06   \n",
              "Order Id                                                              75938   \n",
              "Order Item Cardprod Id                                                 1360   \n",
              "Order Item Discount                                               18.030001   \n",
              "Order Item Discount Rate                                               0.06   \n",
              "Order Item Id                                                        179253   \n",
              "Order Item Product Price                                             327.75   \n",
              "Order Item Profit Ratio                                                -0.8   \n",
              "Order Item Quantity                                                       1   \n",
              "Sales                                                                327.75   \n",
              "Order Item Total                                                 309.720001   \n",
              "Order Profit Per Order                                          -247.779999   \n",
              "Order Region                                                     South Asia   \n",
              "Order State                                                        Rajastán   \n",
              "Order Status                                                         CLOSED   \n",
              "Order Zipcode                                                           NaN   \n",
              "Product Card Id                                                        1360   \n",
              "Product Category Id                                                      73   \n",
              "Product Description                                                     NaN   \n",
              "Product Image                  http://images.acmesports.sports/Smart+watch    \n",
              "Product Name                                                   Smart watch    \n",
              "Product Price                                                        327.75   \n",
              "Product Status                                                            0   \n",
              "shipping date (DateOrders)                                  1/17/2018 12:06   \n",
              "Shipping Mode                                                Standard Class   \n",
              "\n",
              "                                                                          3  \\\n",
              "Type                                                                  DEBIT   \n",
              "Days for shipping (real)                                                  3   \n",
              "Days for shipment (scheduled)                                             4   \n",
              "Benefit per order                                                 22.860001   \n",
              "Sales per customer                                               304.809998   \n",
              "Delivery Status                                            Advance shipping   \n",
              "Late_delivery_risk                                                        0   \n",
              "Category Id                                                              73   \n",
              "Category Name                                                Sporting Goods   \n",
              "Customer City                                                   Los Angeles   \n",
              "Customer Country                                                    EE. UU.   \n",
              "Customer Email                                                    XXXXXXXXX   \n",
              "Customer Fname                                                         Tana   \n",
              "Customer Id                                                           19490   \n",
              "Customer Lname                                                         Tate   \n",
              "Customer Password                                                 XXXXXXXXX   \n",
              "Customer Segment                                                Home Office   \n",
              "Customer State                                                           CA   \n",
              "Customer Street                                             3200 Amber Bend   \n",
              "Customer Zipcode                                                    90027.0   \n",
              "Department Id                                                             2   \n",
              "Department Name                                                     Fitness   \n",
              "Latitude                                                          34.125946   \n",
              "Longitude                                                       -118.291016   \n",
              "Market                                                         Pacific Asia   \n",
              "Order City                                                       Townsville   \n",
              "Order Country                                                     Australia   \n",
              "Order Customer Id                                                     19490   \n",
              "order date (DateOrders)                                     1/13/2018 11:45   \n",
              "Order Id                                                              75937   \n",
              "Order Item Cardprod Id                                                 1360   \n",
              "Order Item Discount                                               22.940001   \n",
              "Order Item Discount Rate                                               0.07   \n",
              "Order Item Id                                                        179252   \n",
              "Order Item Product Price                                             327.75   \n",
              "Order Item Profit Ratio                                                0.08   \n",
              "Order Item Quantity                                                       1   \n",
              "Sales                                                                327.75   \n",
              "Order Item Total                                                 304.809998   \n",
              "Order Profit Per Order                                            22.860001   \n",
              "Order Region                                                        Oceania   \n",
              "Order State                                                      Queensland   \n",
              "Order Status                                                       COMPLETE   \n",
              "Order Zipcode                                                           NaN   \n",
              "Product Card Id                                                        1360   \n",
              "Product Category Id                                                      73   \n",
              "Product Description                                                     NaN   \n",
              "Product Image                  http://images.acmesports.sports/Smart+watch    \n",
              "Product Name                                                   Smart watch    \n",
              "Product Price                                                        327.75   \n",
              "Product Status                                                            0   \n",
              "shipping date (DateOrders)                                  1/16/2018 11:45   \n",
              "Shipping Mode                                                Standard Class   \n",
              "\n",
              "                                                                          4  \n",
              "Type                                                                PAYMENT  \n",
              "Days for shipping (real)                                                  2  \n",
              "Days for shipment (scheduled)                                             4  \n",
              "Benefit per order                                                134.210007  \n",
              "Sales per customer                                                   298.25  \n",
              "Delivery Status                                            Advance shipping  \n",
              "Late_delivery_risk                                                        0  \n",
              "Category Id                                                              73  \n",
              "Category Name                                                Sporting Goods  \n",
              "Customer City                                                        Caguas  \n",
              "Customer Country                                                Puerto Rico  \n",
              "Customer Email                                                    XXXXXXXXX  \n",
              "Customer Fname                                                         Orli  \n",
              "Customer Id                                                           19489  \n",
              "Customer Lname                                                    Hendricks  \n",
              "Customer Password                                                 XXXXXXXXX  \n",
              "Customer Segment                                                  Corporate  \n",
              "Customer State                                                           PR  \n",
              "Customer Street                                    8671 Iron Anchor Corners  \n",
              "Customer Zipcode                                                      725.0  \n",
              "Department Id                                                             2  \n",
              "Department Name                                                     Fitness  \n",
              "Latitude                                                          18.253769  \n",
              "Longitude                                                        -66.037048  \n",
              "Market                                                         Pacific Asia  \n",
              "Order City                                                       Townsville  \n",
              "Order Country                                                     Australia  \n",
              "Order Customer Id                                                     19489  \n",
              "order date (DateOrders)                                     1/13/2018 11:24  \n",
              "Order Id                                                              75936  \n",
              "Order Item Cardprod Id                                                 1360  \n",
              "Order Item Discount                                                    29.5  \n",
              "Order Item Discount Rate                                               0.09  \n",
              "Order Item Id                                                        179251  \n",
              "Order Item Product Price                                             327.75  \n",
              "Order Item Profit Ratio                                                0.45  \n",
              "Order Item Quantity                                                       1  \n",
              "Sales                                                                327.75  \n",
              "Order Item Total                                                     298.25  \n",
              "Order Profit Per Order                                           134.210007  \n",
              "Order Region                                                        Oceania  \n",
              "Order State                                                      Queensland  \n",
              "Order Status                                                PENDING_PAYMENT  \n",
              "Order Zipcode                                                           NaN  \n",
              "Product Card Id                                                        1360  \n",
              "Product Category Id                                                      73  \n",
              "Product Description                                                     NaN  \n",
              "Product Image                  http://images.acmesports.sports/Smart+watch   \n",
              "Product Name                                                   Smart watch   \n",
              "Product Price                                                        327.75  \n",
              "Product Status                                                            0  \n",
              "shipping date (DateOrders)                                  1/15/2018 11:24  \n",
              "Shipping Mode                                                Standard Class  "
            ],
            "text/html": [
              "\n",
              "  <div id=\"df-b63c1255-b463-40f4-8698-f1086879e7e0\">\n",
              "    <div class=\"colab-df-container\">\n",
              "      <div>\n",
              "<style scoped>\n",
              "    .dataframe tbody tr th:only-of-type {\n",
              "        vertical-align: middle;\n",
              "    }\n",
              "\n",
              "    .dataframe tbody tr th {\n",
              "        vertical-align: top;\n",
              "    }\n",
              "\n",
              "    .dataframe thead th {\n",
              "        text-align: right;\n",
              "    }\n",
              "</style>\n",
              "<table border=\"1\" class=\"dataframe\">\n",
              "  <thead>\n",
              "    <tr style=\"text-align: right;\">\n",
              "      <th></th>\n",
              "      <th>0</th>\n",
              "      <th>1</th>\n",
              "      <th>2</th>\n",
              "      <th>3</th>\n",
              "      <th>4</th>\n",
              "    </tr>\n",
              "  </thead>\n",
              "  <tbody>\n",
              "    <tr>\n",
              "      <th>Type</th>\n",
              "      <td>DEBIT</td>\n",
              "      <td>TRANSFER</td>\n",
              "      <td>CASH</td>\n",
              "      <td>DEBIT</td>\n",
              "      <td>PAYMENT</td>\n",
              "    </tr>\n",
              "    <tr>\n",
              "      <th>Days for shipping (real)</th>\n",
              "      <td>3</td>\n",
              "      <td>5</td>\n",
              "      <td>4</td>\n",
              "      <td>3</td>\n",
              "      <td>2</td>\n",
              "    </tr>\n",
              "    <tr>\n",
              "      <th>Days for shipment (scheduled)</th>\n",
              "      <td>4</td>\n",
              "      <td>4</td>\n",
              "      <td>4</td>\n",
              "      <td>4</td>\n",
              "      <td>4</td>\n",
              "    </tr>\n",
              "    <tr>\n",
              "      <th>Benefit per order</th>\n",
              "      <td>91.25</td>\n",
              "      <td>-249.089996</td>\n",
              "      <td>-247.779999</td>\n",
              "      <td>22.860001</td>\n",
              "      <td>134.210007</td>\n",
              "    </tr>\n",
              "    <tr>\n",
              "      <th>Sales per customer</th>\n",
              "      <td>314.640015</td>\n",
              "      <td>311.359985</td>\n",
              "      <td>309.720001</td>\n",
              "      <td>304.809998</td>\n",
              "      <td>298.25</td>\n",
              "    </tr>\n",
              "    <tr>\n",
              "      <th>Delivery Status</th>\n",
              "      <td>Advance shipping</td>\n",
              "      <td>Late delivery</td>\n",
              "      <td>Shipping on time</td>\n",
              "      <td>Advance shipping</td>\n",
              "      <td>Advance shipping</td>\n",
              "    </tr>\n",
              "    <tr>\n",
              "      <th>Late_delivery_risk</th>\n",
              "      <td>0</td>\n",
              "      <td>1</td>\n",
              "      <td>0</td>\n",
              "      <td>0</td>\n",
              "      <td>0</td>\n",
              "    </tr>\n",
              "    <tr>\n",
              "      <th>Category Id</th>\n",
              "      <td>73</td>\n",
              "      <td>73</td>\n",
              "      <td>73</td>\n",
              "      <td>73</td>\n",
              "      <td>73</td>\n",
              "    </tr>\n",
              "    <tr>\n",
              "      <th>Category Name</th>\n",
              "      <td>Sporting Goods</td>\n",
              "      <td>Sporting Goods</td>\n",
              "      <td>Sporting Goods</td>\n",
              "      <td>Sporting Goods</td>\n",
              "      <td>Sporting Goods</td>\n",
              "    </tr>\n",
              "    <tr>\n",
              "      <th>Customer City</th>\n",
              "      <td>Caguas</td>\n",
              "      <td>Caguas</td>\n",
              "      <td>San Jose</td>\n",
              "      <td>Los Angeles</td>\n",
              "      <td>Caguas</td>\n",
              "    </tr>\n",
              "    <tr>\n",
              "      <th>Customer Country</th>\n",
              "      <td>Puerto Rico</td>\n",
              "      <td>Puerto Rico</td>\n",
              "      <td>EE. UU.</td>\n",
              "      <td>EE. UU.</td>\n",
              "      <td>Puerto Rico</td>\n",
              "    </tr>\n",
              "    <tr>\n",
              "      <th>Customer Email</th>\n",
              "      <td>XXXXXXXXX</td>\n",
              "      <td>XXXXXXXXX</td>\n",
              "      <td>XXXXXXXXX</td>\n",
              "      <td>XXXXXXXXX</td>\n",
              "      <td>XXXXXXXXX</td>\n",
              "    </tr>\n",
              "    <tr>\n",
              "      <th>Customer Fname</th>\n",
              "      <td>Cally</td>\n",
              "      <td>Irene</td>\n",
              "      <td>Gillian</td>\n",
              "      <td>Tana</td>\n",
              "      <td>Orli</td>\n",
              "    </tr>\n",
              "    <tr>\n",
              "      <th>Customer Id</th>\n",
              "      <td>20755</td>\n",
              "      <td>19492</td>\n",
              "      <td>19491</td>\n",
              "      <td>19490</td>\n",
              "      <td>19489</td>\n",
              "    </tr>\n",
              "    <tr>\n",
              "      <th>Customer Lname</th>\n",
              "      <td>Holloway</td>\n",
              "      <td>Luna</td>\n",
              "      <td>Maldonado</td>\n",
              "      <td>Tate</td>\n",
              "      <td>Hendricks</td>\n",
              "    </tr>\n",
              "    <tr>\n",
              "      <th>Customer Password</th>\n",
              "      <td>XXXXXXXXX</td>\n",
              "      <td>XXXXXXXXX</td>\n",
              "      <td>XXXXXXXXX</td>\n",
              "      <td>XXXXXXXXX</td>\n",
              "      <td>XXXXXXXXX</td>\n",
              "    </tr>\n",
              "    <tr>\n",
              "      <th>Customer Segment</th>\n",
              "      <td>Consumer</td>\n",
              "      <td>Consumer</td>\n",
              "      <td>Consumer</td>\n",
              "      <td>Home Office</td>\n",
              "      <td>Corporate</td>\n",
              "    </tr>\n",
              "    <tr>\n",
              "      <th>Customer State</th>\n",
              "      <td>PR</td>\n",
              "      <td>PR</td>\n",
              "      <td>CA</td>\n",
              "      <td>CA</td>\n",
              "      <td>PR</td>\n",
              "    </tr>\n",
              "    <tr>\n",
              "      <th>Customer Street</th>\n",
              "      <td>5365 Noble Nectar Island</td>\n",
              "      <td>2679 Rustic Loop</td>\n",
              "      <td>8510 Round Bear Gate</td>\n",
              "      <td>3200 Amber Bend</td>\n",
              "      <td>8671 Iron Anchor Corners</td>\n",
              "    </tr>\n",
              "    <tr>\n",
              "      <th>Customer Zipcode</th>\n",
              "      <td>725.0</td>\n",
              "      <td>725.0</td>\n",
              "      <td>95125.0</td>\n",
              "      <td>90027.0</td>\n",
              "      <td>725.0</td>\n",
              "    </tr>\n",
              "    <tr>\n",
              "      <th>Department Id</th>\n",
              "      <td>2</td>\n",
              "      <td>2</td>\n",
              "      <td>2</td>\n",
              "      <td>2</td>\n",
              "      <td>2</td>\n",
              "    </tr>\n",
              "    <tr>\n",
              "      <th>Department Name</th>\n",
              "      <td>Fitness</td>\n",
              "      <td>Fitness</td>\n",
              "      <td>Fitness</td>\n",
              "      <td>Fitness</td>\n",
              "      <td>Fitness</td>\n",
              "    </tr>\n",
              "    <tr>\n",
              "      <th>Latitude</th>\n",
              "      <td>18.251453</td>\n",
              "      <td>18.279451</td>\n",
              "      <td>37.292233</td>\n",
              "      <td>34.125946</td>\n",
              "      <td>18.253769</td>\n",
              "    </tr>\n",
              "    <tr>\n",
              "      <th>Longitude</th>\n",
              "      <td>-66.037056</td>\n",
              "      <td>-66.037064</td>\n",
              "      <td>-121.881279</td>\n",
              "      <td>-118.291016</td>\n",
              "      <td>-66.037048</td>\n",
              "    </tr>\n",
              "    <tr>\n",
              "      <th>Market</th>\n",
              "      <td>Pacific Asia</td>\n",
              "      <td>Pacific Asia</td>\n",
              "      <td>Pacific Asia</td>\n",
              "      <td>Pacific Asia</td>\n",
              "      <td>Pacific Asia</td>\n",
              "    </tr>\n",
              "    <tr>\n",
              "      <th>Order City</th>\n",
              "      <td>Bekasi</td>\n",
              "      <td>Bikaner</td>\n",
              "      <td>Bikaner</td>\n",
              "      <td>Townsville</td>\n",
              "      <td>Townsville</td>\n",
              "    </tr>\n",
              "    <tr>\n",
              "      <th>Order Country</th>\n",
              "      <td>Indonesia</td>\n",
              "      <td>India</td>\n",
              "      <td>India</td>\n",
              "      <td>Australia</td>\n",
              "      <td>Australia</td>\n",
              "    </tr>\n",
              "    <tr>\n",
              "      <th>Order Customer Id</th>\n",
              "      <td>20755</td>\n",
              "      <td>19492</td>\n",
              "      <td>19491</td>\n",
              "      <td>19490</td>\n",
              "      <td>19489</td>\n",
              "    </tr>\n",
              "    <tr>\n",
              "      <th>order date (DateOrders)</th>\n",
              "      <td>1/31/2018 22:56</td>\n",
              "      <td>1/13/2018 12:27</td>\n",
              "      <td>1/13/2018 12:06</td>\n",
              "      <td>1/13/2018 11:45</td>\n",
              "      <td>1/13/2018 11:24</td>\n",
              "    </tr>\n",
              "    <tr>\n",
              "      <th>Order Id</th>\n",
              "      <td>77202</td>\n",
              "      <td>75939</td>\n",
              "      <td>75938</td>\n",
              "      <td>75937</td>\n",
              "      <td>75936</td>\n",
              "    </tr>\n",
              "    <tr>\n",
              "      <th>Order Item Cardprod Id</th>\n",
              "      <td>1360</td>\n",
              "      <td>1360</td>\n",
              "      <td>1360</td>\n",
              "      <td>1360</td>\n",
              "      <td>1360</td>\n",
              "    </tr>\n",
              "    <tr>\n",
              "      <th>Order Item Discount</th>\n",
              "      <td>13.11</td>\n",
              "      <td>16.389999</td>\n",
              "      <td>18.030001</td>\n",
              "      <td>22.940001</td>\n",
              "      <td>29.5</td>\n",
              "    </tr>\n",
              "    <tr>\n",
              "      <th>Order Item Discount Rate</th>\n",
              "      <td>0.04</td>\n",
              "      <td>0.05</td>\n",
              "      <td>0.06</td>\n",
              "      <td>0.07</td>\n",
              "      <td>0.09</td>\n",
              "    </tr>\n",
              "    <tr>\n",
              "      <th>Order Item Id</th>\n",
              "      <td>180517</td>\n",
              "      <td>179254</td>\n",
              "      <td>179253</td>\n",
              "      <td>179252</td>\n",
              "      <td>179251</td>\n",
              "    </tr>\n",
              "    <tr>\n",
              "      <th>Order Item Product Price</th>\n",
              "      <td>327.75</td>\n",
              "      <td>327.75</td>\n",
              "      <td>327.75</td>\n",
              "      <td>327.75</td>\n",
              "      <td>327.75</td>\n",
              "    </tr>\n",
              "    <tr>\n",
              "      <th>Order Item Profit Ratio</th>\n",
              "      <td>0.29</td>\n",
              "      <td>-0.8</td>\n",
              "      <td>-0.8</td>\n",
              "      <td>0.08</td>\n",
              "      <td>0.45</td>\n",
              "    </tr>\n",
              "    <tr>\n",
              "      <th>Order Item Quantity</th>\n",
              "      <td>1</td>\n",
              "      <td>1</td>\n",
              "      <td>1</td>\n",
              "      <td>1</td>\n",
              "      <td>1</td>\n",
              "    </tr>\n",
              "    <tr>\n",
              "      <th>Sales</th>\n",
              "      <td>327.75</td>\n",
              "      <td>327.75</td>\n",
              "      <td>327.75</td>\n",
              "      <td>327.75</td>\n",
              "      <td>327.75</td>\n",
              "    </tr>\n",
              "    <tr>\n",
              "      <th>Order Item Total</th>\n",
              "      <td>314.640015</td>\n",
              "      <td>311.359985</td>\n",
              "      <td>309.720001</td>\n",
              "      <td>304.809998</td>\n",
              "      <td>298.25</td>\n",
              "    </tr>\n",
              "    <tr>\n",
              "      <th>Order Profit Per Order</th>\n",
              "      <td>91.25</td>\n",
              "      <td>-249.089996</td>\n",
              "      <td>-247.779999</td>\n",
              "      <td>22.860001</td>\n",
              "      <td>134.210007</td>\n",
              "    </tr>\n",
              "    <tr>\n",
              "      <th>Order Region</th>\n",
              "      <td>Southeast Asia</td>\n",
              "      <td>South Asia</td>\n",
              "      <td>South Asia</td>\n",
              "      <td>Oceania</td>\n",
              "      <td>Oceania</td>\n",
              "    </tr>\n",
              "    <tr>\n",
              "      <th>Order State</th>\n",
              "      <td>Java Occidental</td>\n",
              "      <td>Rajastán</td>\n",
              "      <td>Rajastán</td>\n",
              "      <td>Queensland</td>\n",
              "      <td>Queensland</td>\n",
              "    </tr>\n",
              "    <tr>\n",
              "      <th>Order Status</th>\n",
              "      <td>COMPLETE</td>\n",
              "      <td>PENDING</td>\n",
              "      <td>CLOSED</td>\n",
              "      <td>COMPLETE</td>\n",
              "      <td>PENDING_PAYMENT</td>\n",
              "    </tr>\n",
              "    <tr>\n",
              "      <th>Order Zipcode</th>\n",
              "      <td>NaN</td>\n",
              "      <td>NaN</td>\n",
              "      <td>NaN</td>\n",
              "      <td>NaN</td>\n",
              "      <td>NaN</td>\n",
              "    </tr>\n",
              "    <tr>\n",
              "      <th>Product Card Id</th>\n",
              "      <td>1360</td>\n",
              "      <td>1360</td>\n",
              "      <td>1360</td>\n",
              "      <td>1360</td>\n",
              "      <td>1360</td>\n",
              "    </tr>\n",
              "    <tr>\n",
              "      <th>Product Category Id</th>\n",
              "      <td>73</td>\n",
              "      <td>73</td>\n",
              "      <td>73</td>\n",
              "      <td>73</td>\n",
              "      <td>73</td>\n",
              "    </tr>\n",
              "    <tr>\n",
              "      <th>Product Description</th>\n",
              "      <td>NaN</td>\n",
              "      <td>NaN</td>\n",
              "      <td>NaN</td>\n",
              "      <td>NaN</td>\n",
              "      <td>NaN</td>\n",
              "    </tr>\n",
              "    <tr>\n",
              "      <th>Product Image</th>\n",
              "      <td>http://images.acmesports.sports/Smart+watch</td>\n",
              "      <td>http://images.acmesports.sports/Smart+watch</td>\n",
              "      <td>http://images.acmesports.sports/Smart+watch</td>\n",
              "      <td>http://images.acmesports.sports/Smart+watch</td>\n",
              "      <td>http://images.acmesports.sports/Smart+watch</td>\n",
              "    </tr>\n",
              "    <tr>\n",
              "      <th>Product Name</th>\n",
              "      <td>Smart watch</td>\n",
              "      <td>Smart watch</td>\n",
              "      <td>Smart watch</td>\n",
              "      <td>Smart watch</td>\n",
              "      <td>Smart watch</td>\n",
              "    </tr>\n",
              "    <tr>\n",
              "      <th>Product Price</th>\n",
              "      <td>327.75</td>\n",
              "      <td>327.75</td>\n",
              "      <td>327.75</td>\n",
              "      <td>327.75</td>\n",
              "      <td>327.75</td>\n",
              "    </tr>\n",
              "    <tr>\n",
              "      <th>Product Status</th>\n",
              "      <td>0</td>\n",
              "      <td>0</td>\n",
              "      <td>0</td>\n",
              "      <td>0</td>\n",
              "      <td>0</td>\n",
              "    </tr>\n",
              "    <tr>\n",
              "      <th>shipping date (DateOrders)</th>\n",
              "      <td>2/3/2018 22:56</td>\n",
              "      <td>1/18/2018 12:27</td>\n",
              "      <td>1/17/2018 12:06</td>\n",
              "      <td>1/16/2018 11:45</td>\n",
              "      <td>1/15/2018 11:24</td>\n",
              "    </tr>\n",
              "    <tr>\n",
              "      <th>Shipping Mode</th>\n",
              "      <td>Standard Class</td>\n",
              "      <td>Standard Class</td>\n",
              "      <td>Standard Class</td>\n",
              "      <td>Standard Class</td>\n",
              "      <td>Standard Class</td>\n",
              "    </tr>\n",
              "  </tbody>\n",
              "</table>\n",
              "</div>\n",
              "      <button class=\"colab-df-convert\" onclick=\"convertToInteractive('df-b63c1255-b463-40f4-8698-f1086879e7e0')\"\n",
              "              title=\"Convert this dataframe to an interactive table.\"\n",
              "              style=\"display:none;\">\n",
              "        \n",
              "  <svg xmlns=\"http://www.w3.org/2000/svg\" height=\"24px\"viewBox=\"0 0 24 24\"\n",
              "       width=\"24px\">\n",
              "    <path d=\"M0 0h24v24H0V0z\" fill=\"none\"/>\n",
              "    <path d=\"M18.56 5.44l.94 2.06.94-2.06 2.06-.94-2.06-.94-.94-2.06-.94 2.06-2.06.94zm-11 1L8.5 8.5l.94-2.06 2.06-.94-2.06-.94L8.5 2.5l-.94 2.06-2.06.94zm10 10l.94 2.06.94-2.06 2.06-.94-2.06-.94-.94-2.06-.94 2.06-2.06.94z\"/><path d=\"M17.41 7.96l-1.37-1.37c-.4-.4-.92-.59-1.43-.59-.52 0-1.04.2-1.43.59L10.3 9.45l-7.72 7.72c-.78.78-.78 2.05 0 2.83L4 21.41c.39.39.9.59 1.41.59.51 0 1.02-.2 1.41-.59l7.78-7.78 2.81-2.81c.8-.78.8-2.07 0-2.86zM5.41 20L4 18.59l7.72-7.72 1.47 1.35L5.41 20z\"/>\n",
              "  </svg>\n",
              "      </button>\n",
              "      \n",
              "  <style>\n",
              "    .colab-df-container {\n",
              "      display:flex;\n",
              "      flex-wrap:wrap;\n",
              "      gap: 12px;\n",
              "    }\n",
              "\n",
              "    .colab-df-convert {\n",
              "      background-color: #E8F0FE;\n",
              "      border: none;\n",
              "      border-radius: 50%;\n",
              "      cursor: pointer;\n",
              "      display: none;\n",
              "      fill: #1967D2;\n",
              "      height: 32px;\n",
              "      padding: 0 0 0 0;\n",
              "      width: 32px;\n",
              "    }\n",
              "\n",
              "    .colab-df-convert:hover {\n",
              "      background-color: #E2EBFA;\n",
              "      box-shadow: 0px 1px 2px rgba(60, 64, 67, 0.3), 0px 1px 3px 1px rgba(60, 64, 67, 0.15);\n",
              "      fill: #174EA6;\n",
              "    }\n",
              "\n",
              "    [theme=dark] .colab-df-convert {\n",
              "      background-color: #3B4455;\n",
              "      fill: #D2E3FC;\n",
              "    }\n",
              "\n",
              "    [theme=dark] .colab-df-convert:hover {\n",
              "      background-color: #434B5C;\n",
              "      box-shadow: 0px 1px 3px 1px rgba(0, 0, 0, 0.15);\n",
              "      filter: drop-shadow(0px 1px 2px rgba(0, 0, 0, 0.3));\n",
              "      fill: #FFFFFF;\n",
              "    }\n",
              "  </style>\n",
              "\n",
              "      <script>\n",
              "        const buttonEl =\n",
              "          document.querySelector('#df-b63c1255-b463-40f4-8698-f1086879e7e0 button.colab-df-convert');\n",
              "        buttonEl.style.display =\n",
              "          google.colab.kernel.accessAllowed ? 'block' : 'none';\n",
              "\n",
              "        async function convertToInteractive(key) {\n",
              "          const element = document.querySelector('#df-b63c1255-b463-40f4-8698-f1086879e7e0');\n",
              "          const dataTable =\n",
              "            await google.colab.kernel.invokeFunction('convertToInteractive',\n",
              "                                                     [key], {});\n",
              "          if (!dataTable) return;\n",
              "\n",
              "          const docLinkHtml = 'Like what you see? Visit the ' +\n",
              "            '<a target=\"_blank\" href=https://colab.research.google.com/notebooks/data_table.ipynb>data table notebook</a>'\n",
              "            + ' to learn more about interactive tables.';\n",
              "          element.innerHTML = '';\n",
              "          dataTable['output_type'] = 'display_data';\n",
              "          await google.colab.output.renderOutput(dataTable, element);\n",
              "          const docLink = document.createElement('div');\n",
              "          docLink.innerHTML = docLinkHtml;\n",
              "          element.appendChild(docLink);\n",
              "        }\n",
              "      </script>\n",
              "    </div>\n",
              "  </div>\n",
              "  "
            ]
          },
          "metadata": {},
          "execution_count": 5
        }
      ],
      "source": [
        "df.head(5).T"
      ]
    },
    {
      "cell_type": "code",
      "execution_count": 6,
      "metadata": {
        "colab": {
          "base_uri": "https://localhost:8080/"
        },
        "id": "EnsCCw8D1CmV",
        "outputId": "a7db8a8b-62e3-4a11-b1ea-aec7a65bfca1"
      },
      "outputs": [
        {
          "output_type": "stream",
          "name": "stdout",
          "text": [
            "<class 'pandas.core.frame.DataFrame'>\n",
            "RangeIndex: 180519 entries, 0 to 180518\n",
            "Data columns (total 53 columns):\n",
            " #   Column                         Non-Null Count   Dtype  \n",
            "---  ------                         --------------   -----  \n",
            " 0   Type                           180519 non-null  object \n",
            " 1   Days for shipping (real)       180519 non-null  int64  \n",
            " 2   Days for shipment (scheduled)  180519 non-null  int64  \n",
            " 3   Benefit per order              180519 non-null  float64\n",
            " 4   Sales per customer             180519 non-null  float64\n",
            " 5   Delivery Status                180519 non-null  object \n",
            " 6   Late_delivery_risk             180519 non-null  int64  \n",
            " 7   Category Id                    180519 non-null  int64  \n",
            " 8   Category Name                  180519 non-null  object \n",
            " 9   Customer City                  180519 non-null  object \n",
            " 10  Customer Country               180519 non-null  object \n",
            " 11  Customer Email                 180519 non-null  object \n",
            " 12  Customer Fname                 180519 non-null  object \n",
            " 13  Customer Id                    180519 non-null  int64  \n",
            " 14  Customer Lname                 180511 non-null  object \n",
            " 15  Customer Password              180519 non-null  object \n",
            " 16  Customer Segment               180519 non-null  object \n",
            " 17  Customer State                 180519 non-null  object \n",
            " 18  Customer Street                180519 non-null  object \n",
            " 19  Customer Zipcode               180516 non-null  float64\n",
            " 20  Department Id                  180519 non-null  int64  \n",
            " 21  Department Name                180519 non-null  object \n",
            " 22  Latitude                       180519 non-null  float64\n",
            " 23  Longitude                      180519 non-null  float64\n",
            " 24  Market                         180519 non-null  object \n",
            " 25  Order City                     180519 non-null  object \n",
            " 26  Order Country                  180519 non-null  object \n",
            " 27  Order Customer Id              180519 non-null  int64  \n",
            " 28  order date (DateOrders)        180519 non-null  object \n",
            " 29  Order Id                       180519 non-null  int64  \n",
            " 30  Order Item Cardprod Id         180519 non-null  int64  \n",
            " 31  Order Item Discount            180519 non-null  float64\n",
            " 32  Order Item Discount Rate       180519 non-null  float64\n",
            " 33  Order Item Id                  180519 non-null  int64  \n",
            " 34  Order Item Product Price       180519 non-null  float64\n",
            " 35  Order Item Profit Ratio        180519 non-null  float64\n",
            " 36  Order Item Quantity            180519 non-null  int64  \n",
            " 37  Sales                          180519 non-null  float64\n",
            " 38  Order Item Total               180519 non-null  float64\n",
            " 39  Order Profit Per Order         180519 non-null  float64\n",
            " 40  Order Region                   180519 non-null  object \n",
            " 41  Order State                    180519 non-null  object \n",
            " 42  Order Status                   180519 non-null  object \n",
            " 43  Order Zipcode                  24840 non-null   float64\n",
            " 44  Product Card Id                180519 non-null  int64  \n",
            " 45  Product Category Id            180519 non-null  int64  \n",
            " 46  Product Description            0 non-null       float64\n",
            " 47  Product Image                  180519 non-null  object \n",
            " 48  Product Name                   180519 non-null  object \n",
            " 49  Product Price                  180519 non-null  float64\n",
            " 50  Product Status                 180519 non-null  int64  \n",
            " 51  shipping date (DateOrders)     180519 non-null  object \n",
            " 52  Shipping Mode                  180519 non-null  object \n",
            "dtypes: float64(15), int64(14), object(24)\n",
            "memory usage: 73.0+ MB\n"
          ]
        }
      ],
      "source": [
        "df.info()"
      ]
    },
    {
      "cell_type": "code",
      "execution_count": 7,
      "metadata": {
        "colab": {
          "base_uri": "https://localhost:8080/",
          "height": 958
        },
        "id": "plcUU0w01CmY",
        "outputId": "50ff7fa1-05df-47a2-8ab8-368bb9f477a5"
      },
      "outputs": [
        {
          "output_type": "execute_result",
          "data": {
            "text/plain": [
              "                                  count          mean           std  \\\n",
              "Days for shipping (real)       180519.0      3.497654      1.623722   \n",
              "Days for shipment (scheduled)  180519.0      2.931847      1.374449   \n",
              "Benefit per order              180519.0     21.974989    104.433526   \n",
              "Sales per customer             180519.0    183.107609    120.043670   \n",
              "Late_delivery_risk             180519.0      0.548291      0.497664   \n",
              "Category Id                    180519.0     31.851451     15.640064   \n",
              "Customer Id                    180519.0   6691.379495   4162.918106   \n",
              "Customer Zipcode               180516.0  35921.126914  37542.461122   \n",
              "Department Id                  180519.0      5.443460      1.629246   \n",
              "Latitude                       180519.0     29.719955      9.813646   \n",
              "Longitude                      180519.0    -84.915675     21.433241   \n",
              "Order Customer Id              180519.0   6691.379495   4162.918106   \n",
              "Order Id                       180519.0  36221.894903  21045.379569   \n",
              "Order Item Cardprod Id         180519.0    692.509764    336.446807   \n",
              "Order Item Discount            180519.0     20.664741     21.800901   \n",
              "Order Item Discount Rate       180519.0      0.101668      0.070415   \n",
              "Order Item Id                  180519.0  90260.000000  52111.490959   \n",
              "Order Item Product Price       180519.0    141.232550    139.732492   \n",
              "Order Item Profit Ratio        180519.0      0.120647      0.466796   \n",
              "Order Item Quantity            180519.0      2.127638      1.453451   \n",
              "Sales                          180519.0    203.772096    132.273077   \n",
              "Order Item Total               180519.0    183.107609    120.043670   \n",
              "Order Profit Per Order         180519.0     21.974989    104.433526   \n",
              "Order Zipcode                   24840.0  55426.132327  31919.279101   \n",
              "Product Card Id                180519.0    692.509764    336.446807   \n",
              "Product Category Id            180519.0     31.851451     15.640064   \n",
              "Product Description                 0.0           NaN           NaN   \n",
              "Product Price                  180519.0    141.232550    139.732492   \n",
              "Product Status                 180519.0      0.000000      0.000000   \n",
              "\n",
              "                                       min           25%           50%  \\\n",
              "Days for shipping (real)          0.000000      2.000000      3.000000   \n",
              "Days for shipment (scheduled)     0.000000      2.000000      4.000000   \n",
              "Benefit per order             -4274.979980      7.000000     31.520000   \n",
              "Sales per customer                7.490000    104.379997    163.990005   \n",
              "Late_delivery_risk                0.000000      0.000000      1.000000   \n",
              "Category Id                       2.000000     18.000000     29.000000   \n",
              "Customer Id                       1.000000   3258.500000   6457.000000   \n",
              "Customer Zipcode                603.000000    725.000000  19380.000000   \n",
              "Department Id                     2.000000      4.000000      5.000000   \n",
              "Latitude                        -33.937553     18.265432     33.144863   \n",
              "Longitude                      -158.025986    -98.446312    -76.847908   \n",
              "Order Customer Id                 1.000000   3258.500000   6457.000000   \n",
              "Order Id                          1.000000  18057.000000  36140.000000   \n",
              "Order Item Cardprod Id           19.000000    403.000000    627.000000   \n",
              "Order Item Discount               0.000000      5.400000     14.000000   \n",
              "Order Item Discount Rate          0.000000      0.040000      0.100000   \n",
              "Order Item Id                     1.000000  45130.500000  90260.000000   \n",
              "Order Item Product Price          9.990000     50.000000     59.990002   \n",
              "Order Item Profit Ratio          -2.750000      0.080000      0.270000   \n",
              "Order Item Quantity               1.000000      1.000000      1.000000   \n",
              "Sales                             9.990000    119.980003    199.919998   \n",
              "Order Item Total                  7.490000    104.379997    163.990005   \n",
              "Order Profit Per Order        -4274.979980      7.000000     31.520000   \n",
              "Order Zipcode                  1040.000000  23464.000000  59405.000000   \n",
              "Product Card Id                  19.000000    403.000000    627.000000   \n",
              "Product Category Id               2.000000     18.000000     29.000000   \n",
              "Product Description                    NaN           NaN           NaN   \n",
              "Product Price                     9.990000     50.000000     59.990002   \n",
              "Product Status                    0.000000      0.000000      0.000000   \n",
              "\n",
              "                                         75%            max  \n",
              "Days for shipping (real)            5.000000       6.000000  \n",
              "Days for shipment (scheduled)       4.000000       4.000000  \n",
              "Benefit per order                  64.800003     911.799988  \n",
              "Sales per customer                247.399994    1939.989990  \n",
              "Late_delivery_risk                  1.000000       1.000000  \n",
              "Category Id                        45.000000      76.000000  \n",
              "Customer Id                      9779.000000   20757.000000  \n",
              "Customer Zipcode                78207.000000   99205.000000  \n",
              "Department Id                       7.000000      12.000000  \n",
              "Latitude                           39.279617      48.781933  \n",
              "Longitude                         -66.370583     115.263077  \n",
              "Order Customer Id                9779.000000   20757.000000  \n",
              "Order Id                        54144.000000   77204.000000  \n",
              "Order Item Cardprod Id           1004.000000    1363.000000  \n",
              "Order Item Discount                29.990000     500.000000  \n",
              "Order Item Discount Rate            0.160000       0.250000  \n",
              "Order Item Id                  135389.500000  180519.000000  \n",
              "Order Item Product Price          199.990005    1999.989990  \n",
              "Order Item Profit Ratio             0.360000       0.500000  \n",
              "Order Item Quantity                 3.000000       5.000000  \n",
              "Sales                             299.950012    1999.989990  \n",
              "Order Item Total                  247.399994    1939.989990  \n",
              "Order Profit Per Order             64.800003     911.799988  \n",
              "Order Zipcode                   90008.000000   99301.000000  \n",
              "Product Card Id                  1004.000000    1363.000000  \n",
              "Product Category Id                45.000000      76.000000  \n",
              "Product Description                      NaN            NaN  \n",
              "Product Price                     199.990005    1999.989990  \n",
              "Product Status                      0.000000       0.000000  "
            ],
            "text/html": [
              "\n",
              "  <div id=\"df-325ef73d-6f12-4e2e-98c8-d18fbd64b946\">\n",
              "    <div class=\"colab-df-container\">\n",
              "      <div>\n",
              "<style scoped>\n",
              "    .dataframe tbody tr th:only-of-type {\n",
              "        vertical-align: middle;\n",
              "    }\n",
              "\n",
              "    .dataframe tbody tr th {\n",
              "        vertical-align: top;\n",
              "    }\n",
              "\n",
              "    .dataframe thead th {\n",
              "        text-align: right;\n",
              "    }\n",
              "</style>\n",
              "<table border=\"1\" class=\"dataframe\">\n",
              "  <thead>\n",
              "    <tr style=\"text-align: right;\">\n",
              "      <th></th>\n",
              "      <th>count</th>\n",
              "      <th>mean</th>\n",
              "      <th>std</th>\n",
              "      <th>min</th>\n",
              "      <th>25%</th>\n",
              "      <th>50%</th>\n",
              "      <th>75%</th>\n",
              "      <th>max</th>\n",
              "    </tr>\n",
              "  </thead>\n",
              "  <tbody>\n",
              "    <tr>\n",
              "      <th>Days for shipping (real)</th>\n",
              "      <td>180519.0</td>\n",
              "      <td>3.497654</td>\n",
              "      <td>1.623722</td>\n",
              "      <td>0.000000</td>\n",
              "      <td>2.000000</td>\n",
              "      <td>3.000000</td>\n",
              "      <td>5.000000</td>\n",
              "      <td>6.000000</td>\n",
              "    </tr>\n",
              "    <tr>\n",
              "      <th>Days for shipment (scheduled)</th>\n",
              "      <td>180519.0</td>\n",
              "      <td>2.931847</td>\n",
              "      <td>1.374449</td>\n",
              "      <td>0.000000</td>\n",
              "      <td>2.000000</td>\n",
              "      <td>4.000000</td>\n",
              "      <td>4.000000</td>\n",
              "      <td>4.000000</td>\n",
              "    </tr>\n",
              "    <tr>\n",
              "      <th>Benefit per order</th>\n",
              "      <td>180519.0</td>\n",
              "      <td>21.974989</td>\n",
              "      <td>104.433526</td>\n",
              "      <td>-4274.979980</td>\n",
              "      <td>7.000000</td>\n",
              "      <td>31.520000</td>\n",
              "      <td>64.800003</td>\n",
              "      <td>911.799988</td>\n",
              "    </tr>\n",
              "    <tr>\n",
              "      <th>Sales per customer</th>\n",
              "      <td>180519.0</td>\n",
              "      <td>183.107609</td>\n",
              "      <td>120.043670</td>\n",
              "      <td>7.490000</td>\n",
              "      <td>104.379997</td>\n",
              "      <td>163.990005</td>\n",
              "      <td>247.399994</td>\n",
              "      <td>1939.989990</td>\n",
              "    </tr>\n",
              "    <tr>\n",
              "      <th>Late_delivery_risk</th>\n",
              "      <td>180519.0</td>\n",
              "      <td>0.548291</td>\n",
              "      <td>0.497664</td>\n",
              "      <td>0.000000</td>\n",
              "      <td>0.000000</td>\n",
              "      <td>1.000000</td>\n",
              "      <td>1.000000</td>\n",
              "      <td>1.000000</td>\n",
              "    </tr>\n",
              "    <tr>\n",
              "      <th>Category Id</th>\n",
              "      <td>180519.0</td>\n",
              "      <td>31.851451</td>\n",
              "      <td>15.640064</td>\n",
              "      <td>2.000000</td>\n",
              "      <td>18.000000</td>\n",
              "      <td>29.000000</td>\n",
              "      <td>45.000000</td>\n",
              "      <td>76.000000</td>\n",
              "    </tr>\n",
              "    <tr>\n",
              "      <th>Customer Id</th>\n",
              "      <td>180519.0</td>\n",
              "      <td>6691.379495</td>\n",
              "      <td>4162.918106</td>\n",
              "      <td>1.000000</td>\n",
              "      <td>3258.500000</td>\n",
              "      <td>6457.000000</td>\n",
              "      <td>9779.000000</td>\n",
              "      <td>20757.000000</td>\n",
              "    </tr>\n",
              "    <tr>\n",
              "      <th>Customer Zipcode</th>\n",
              "      <td>180516.0</td>\n",
              "      <td>35921.126914</td>\n",
              "      <td>37542.461122</td>\n",
              "      <td>603.000000</td>\n",
              "      <td>725.000000</td>\n",
              "      <td>19380.000000</td>\n",
              "      <td>78207.000000</td>\n",
              "      <td>99205.000000</td>\n",
              "    </tr>\n",
              "    <tr>\n",
              "      <th>Department Id</th>\n",
              "      <td>180519.0</td>\n",
              "      <td>5.443460</td>\n",
              "      <td>1.629246</td>\n",
              "      <td>2.000000</td>\n",
              "      <td>4.000000</td>\n",
              "      <td>5.000000</td>\n",
              "      <td>7.000000</td>\n",
              "      <td>12.000000</td>\n",
              "    </tr>\n",
              "    <tr>\n",
              "      <th>Latitude</th>\n",
              "      <td>180519.0</td>\n",
              "      <td>29.719955</td>\n",
              "      <td>9.813646</td>\n",
              "      <td>-33.937553</td>\n",
              "      <td>18.265432</td>\n",
              "      <td>33.144863</td>\n",
              "      <td>39.279617</td>\n",
              "      <td>48.781933</td>\n",
              "    </tr>\n",
              "    <tr>\n",
              "      <th>Longitude</th>\n",
              "      <td>180519.0</td>\n",
              "      <td>-84.915675</td>\n",
              "      <td>21.433241</td>\n",
              "      <td>-158.025986</td>\n",
              "      <td>-98.446312</td>\n",
              "      <td>-76.847908</td>\n",
              "      <td>-66.370583</td>\n",
              "      <td>115.263077</td>\n",
              "    </tr>\n",
              "    <tr>\n",
              "      <th>Order Customer Id</th>\n",
              "      <td>180519.0</td>\n",
              "      <td>6691.379495</td>\n",
              "      <td>4162.918106</td>\n",
              "      <td>1.000000</td>\n",
              "      <td>3258.500000</td>\n",
              "      <td>6457.000000</td>\n",
              "      <td>9779.000000</td>\n",
              "      <td>20757.000000</td>\n",
              "    </tr>\n",
              "    <tr>\n",
              "      <th>Order Id</th>\n",
              "      <td>180519.0</td>\n",
              "      <td>36221.894903</td>\n",
              "      <td>21045.379569</td>\n",
              "      <td>1.000000</td>\n",
              "      <td>18057.000000</td>\n",
              "      <td>36140.000000</td>\n",
              "      <td>54144.000000</td>\n",
              "      <td>77204.000000</td>\n",
              "    </tr>\n",
              "    <tr>\n",
              "      <th>Order Item Cardprod Id</th>\n",
              "      <td>180519.0</td>\n",
              "      <td>692.509764</td>\n",
              "      <td>336.446807</td>\n",
              "      <td>19.000000</td>\n",
              "      <td>403.000000</td>\n",
              "      <td>627.000000</td>\n",
              "      <td>1004.000000</td>\n",
              "      <td>1363.000000</td>\n",
              "    </tr>\n",
              "    <tr>\n",
              "      <th>Order Item Discount</th>\n",
              "      <td>180519.0</td>\n",
              "      <td>20.664741</td>\n",
              "      <td>21.800901</td>\n",
              "      <td>0.000000</td>\n",
              "      <td>5.400000</td>\n",
              "      <td>14.000000</td>\n",
              "      <td>29.990000</td>\n",
              "      <td>500.000000</td>\n",
              "    </tr>\n",
              "    <tr>\n",
              "      <th>Order Item Discount Rate</th>\n",
              "      <td>180519.0</td>\n",
              "      <td>0.101668</td>\n",
              "      <td>0.070415</td>\n",
              "      <td>0.000000</td>\n",
              "      <td>0.040000</td>\n",
              "      <td>0.100000</td>\n",
              "      <td>0.160000</td>\n",
              "      <td>0.250000</td>\n",
              "    </tr>\n",
              "    <tr>\n",
              "      <th>Order Item Id</th>\n",
              "      <td>180519.0</td>\n",
              "      <td>90260.000000</td>\n",
              "      <td>52111.490959</td>\n",
              "      <td>1.000000</td>\n",
              "      <td>45130.500000</td>\n",
              "      <td>90260.000000</td>\n",
              "      <td>135389.500000</td>\n",
              "      <td>180519.000000</td>\n",
              "    </tr>\n",
              "    <tr>\n",
              "      <th>Order Item Product Price</th>\n",
              "      <td>180519.0</td>\n",
              "      <td>141.232550</td>\n",
              "      <td>139.732492</td>\n",
              "      <td>9.990000</td>\n",
              "      <td>50.000000</td>\n",
              "      <td>59.990002</td>\n",
              "      <td>199.990005</td>\n",
              "      <td>1999.989990</td>\n",
              "    </tr>\n",
              "    <tr>\n",
              "      <th>Order Item Profit Ratio</th>\n",
              "      <td>180519.0</td>\n",
              "      <td>0.120647</td>\n",
              "      <td>0.466796</td>\n",
              "      <td>-2.750000</td>\n",
              "      <td>0.080000</td>\n",
              "      <td>0.270000</td>\n",
              "      <td>0.360000</td>\n",
              "      <td>0.500000</td>\n",
              "    </tr>\n",
              "    <tr>\n",
              "      <th>Order Item Quantity</th>\n",
              "      <td>180519.0</td>\n",
              "      <td>2.127638</td>\n",
              "      <td>1.453451</td>\n",
              "      <td>1.000000</td>\n",
              "      <td>1.000000</td>\n",
              "      <td>1.000000</td>\n",
              "      <td>3.000000</td>\n",
              "      <td>5.000000</td>\n",
              "    </tr>\n",
              "    <tr>\n",
              "      <th>Sales</th>\n",
              "      <td>180519.0</td>\n",
              "      <td>203.772096</td>\n",
              "      <td>132.273077</td>\n",
              "      <td>9.990000</td>\n",
              "      <td>119.980003</td>\n",
              "      <td>199.919998</td>\n",
              "      <td>299.950012</td>\n",
              "      <td>1999.989990</td>\n",
              "    </tr>\n",
              "    <tr>\n",
              "      <th>Order Item Total</th>\n",
              "      <td>180519.0</td>\n",
              "      <td>183.107609</td>\n",
              "      <td>120.043670</td>\n",
              "      <td>7.490000</td>\n",
              "      <td>104.379997</td>\n",
              "      <td>163.990005</td>\n",
              "      <td>247.399994</td>\n",
              "      <td>1939.989990</td>\n",
              "    </tr>\n",
              "    <tr>\n",
              "      <th>Order Profit Per Order</th>\n",
              "      <td>180519.0</td>\n",
              "      <td>21.974989</td>\n",
              "      <td>104.433526</td>\n",
              "      <td>-4274.979980</td>\n",
              "      <td>7.000000</td>\n",
              "      <td>31.520000</td>\n",
              "      <td>64.800003</td>\n",
              "      <td>911.799988</td>\n",
              "    </tr>\n",
              "    <tr>\n",
              "      <th>Order Zipcode</th>\n",
              "      <td>24840.0</td>\n",
              "      <td>55426.132327</td>\n",
              "      <td>31919.279101</td>\n",
              "      <td>1040.000000</td>\n",
              "      <td>23464.000000</td>\n",
              "      <td>59405.000000</td>\n",
              "      <td>90008.000000</td>\n",
              "      <td>99301.000000</td>\n",
              "    </tr>\n",
              "    <tr>\n",
              "      <th>Product Card Id</th>\n",
              "      <td>180519.0</td>\n",
              "      <td>692.509764</td>\n",
              "      <td>336.446807</td>\n",
              "      <td>19.000000</td>\n",
              "      <td>403.000000</td>\n",
              "      <td>627.000000</td>\n",
              "      <td>1004.000000</td>\n",
              "      <td>1363.000000</td>\n",
              "    </tr>\n",
              "    <tr>\n",
              "      <th>Product Category Id</th>\n",
              "      <td>180519.0</td>\n",
              "      <td>31.851451</td>\n",
              "      <td>15.640064</td>\n",
              "      <td>2.000000</td>\n",
              "      <td>18.000000</td>\n",
              "      <td>29.000000</td>\n",
              "      <td>45.000000</td>\n",
              "      <td>76.000000</td>\n",
              "    </tr>\n",
              "    <tr>\n",
              "      <th>Product Description</th>\n",
              "      <td>0.0</td>\n",
              "      <td>NaN</td>\n",
              "      <td>NaN</td>\n",
              "      <td>NaN</td>\n",
              "      <td>NaN</td>\n",
              "      <td>NaN</td>\n",
              "      <td>NaN</td>\n",
              "      <td>NaN</td>\n",
              "    </tr>\n",
              "    <tr>\n",
              "      <th>Product Price</th>\n",
              "      <td>180519.0</td>\n",
              "      <td>141.232550</td>\n",
              "      <td>139.732492</td>\n",
              "      <td>9.990000</td>\n",
              "      <td>50.000000</td>\n",
              "      <td>59.990002</td>\n",
              "      <td>199.990005</td>\n",
              "      <td>1999.989990</td>\n",
              "    </tr>\n",
              "    <tr>\n",
              "      <th>Product Status</th>\n",
              "      <td>180519.0</td>\n",
              "      <td>0.000000</td>\n",
              "      <td>0.000000</td>\n",
              "      <td>0.000000</td>\n",
              "      <td>0.000000</td>\n",
              "      <td>0.000000</td>\n",
              "      <td>0.000000</td>\n",
              "      <td>0.000000</td>\n",
              "    </tr>\n",
              "  </tbody>\n",
              "</table>\n",
              "</div>\n",
              "      <button class=\"colab-df-convert\" onclick=\"convertToInteractive('df-325ef73d-6f12-4e2e-98c8-d18fbd64b946')\"\n",
              "              title=\"Convert this dataframe to an interactive table.\"\n",
              "              style=\"display:none;\">\n",
              "        \n",
              "  <svg xmlns=\"http://www.w3.org/2000/svg\" height=\"24px\"viewBox=\"0 0 24 24\"\n",
              "       width=\"24px\">\n",
              "    <path d=\"M0 0h24v24H0V0z\" fill=\"none\"/>\n",
              "    <path d=\"M18.56 5.44l.94 2.06.94-2.06 2.06-.94-2.06-.94-.94-2.06-.94 2.06-2.06.94zm-11 1L8.5 8.5l.94-2.06 2.06-.94-2.06-.94L8.5 2.5l-.94 2.06-2.06.94zm10 10l.94 2.06.94-2.06 2.06-.94-2.06-.94-.94-2.06-.94 2.06-2.06.94z\"/><path d=\"M17.41 7.96l-1.37-1.37c-.4-.4-.92-.59-1.43-.59-.52 0-1.04.2-1.43.59L10.3 9.45l-7.72 7.72c-.78.78-.78 2.05 0 2.83L4 21.41c.39.39.9.59 1.41.59.51 0 1.02-.2 1.41-.59l7.78-7.78 2.81-2.81c.8-.78.8-2.07 0-2.86zM5.41 20L4 18.59l7.72-7.72 1.47 1.35L5.41 20z\"/>\n",
              "  </svg>\n",
              "      </button>\n",
              "      \n",
              "  <style>\n",
              "    .colab-df-container {\n",
              "      display:flex;\n",
              "      flex-wrap:wrap;\n",
              "      gap: 12px;\n",
              "    }\n",
              "\n",
              "    .colab-df-convert {\n",
              "      background-color: #E8F0FE;\n",
              "      border: none;\n",
              "      border-radius: 50%;\n",
              "      cursor: pointer;\n",
              "      display: none;\n",
              "      fill: #1967D2;\n",
              "      height: 32px;\n",
              "      padding: 0 0 0 0;\n",
              "      width: 32px;\n",
              "    }\n",
              "\n",
              "    .colab-df-convert:hover {\n",
              "      background-color: #E2EBFA;\n",
              "      box-shadow: 0px 1px 2px rgba(60, 64, 67, 0.3), 0px 1px 3px 1px rgba(60, 64, 67, 0.15);\n",
              "      fill: #174EA6;\n",
              "    }\n",
              "\n",
              "    [theme=dark] .colab-df-convert {\n",
              "      background-color: #3B4455;\n",
              "      fill: #D2E3FC;\n",
              "    }\n",
              "\n",
              "    [theme=dark] .colab-df-convert:hover {\n",
              "      background-color: #434B5C;\n",
              "      box-shadow: 0px 1px 3px 1px rgba(0, 0, 0, 0.15);\n",
              "      filter: drop-shadow(0px 1px 2px rgba(0, 0, 0, 0.3));\n",
              "      fill: #FFFFFF;\n",
              "    }\n",
              "  </style>\n",
              "\n",
              "      <script>\n",
              "        const buttonEl =\n",
              "          document.querySelector('#df-325ef73d-6f12-4e2e-98c8-d18fbd64b946 button.colab-df-convert');\n",
              "        buttonEl.style.display =\n",
              "          google.colab.kernel.accessAllowed ? 'block' : 'none';\n",
              "\n",
              "        async function convertToInteractive(key) {\n",
              "          const element = document.querySelector('#df-325ef73d-6f12-4e2e-98c8-d18fbd64b946');\n",
              "          const dataTable =\n",
              "            await google.colab.kernel.invokeFunction('convertToInteractive',\n",
              "                                                     [key], {});\n",
              "          if (!dataTable) return;\n",
              "\n",
              "          const docLinkHtml = 'Like what you see? Visit the ' +\n",
              "            '<a target=\"_blank\" href=https://colab.research.google.com/notebooks/data_table.ipynb>data table notebook</a>'\n",
              "            + ' to learn more about interactive tables.';\n",
              "          element.innerHTML = '';\n",
              "          dataTable['output_type'] = 'display_data';\n",
              "          await google.colab.output.renderOutput(dataTable, element);\n",
              "          const docLink = document.createElement('div');\n",
              "          docLink.innerHTML = docLinkHtml;\n",
              "          element.appendChild(docLink);\n",
              "        }\n",
              "      </script>\n",
              "    </div>\n",
              "  </div>\n",
              "  "
            ]
          },
          "metadata": {},
          "execution_count": 7
        }
      ],
      "source": [
        "df.describe().T #5 number summary"
      ]
    },
    {
      "cell_type": "code",
      "execution_count": 8,
      "metadata": {
        "colab": {
          "base_uri": "https://localhost:8080/"
        },
        "id": "4-KhMkwq1Cma",
        "outputId": "c1dd63c6-71e0-4b67-9136-f1121d16d18c"
      },
      "outputs": [
        {
          "output_type": "execute_result",
          "data": {
            "text/plain": [
              "array(['Standard Class', 'First Class', 'Second Class', 'Same Day'],\n",
              "      dtype=object)"
            ]
          },
          "metadata": {},
          "execution_count": 8
        },
        {
          "output_type": "execute_result",
          "data": {
            "text/plain": [
              "Standard Class    107752\n",
              "Second Class       35216\n",
              "First Class        27814\n",
              "Same Day            9737\n",
              "Name: Shipping Mode, dtype: int64"
            ]
          },
          "metadata": {},
          "execution_count": 8
        }
      ],
      "source": [
        "df['Shipping Mode'].unique()\n",
        "df['Shipping Mode'].value_counts()"
      ]
    },
    {
      "cell_type": "markdown",
      "metadata": {
        "id": "OC5X6lVq1Cmc"
      },
      "source": [
        "#### Data Preprocessing"
      ]
    },
    {
      "cell_type": "markdown",
      "source": [
        "Checking attributes for number of unique values less than 2 as they give no information for our models.  "
      ],
      "metadata": {
        "id": "Ugk5D4kf6h4r"
      }
    },
    {
      "cell_type": "code",
      "execution_count": 9,
      "metadata": {
        "colab": {
          "base_uri": "https://localhost:8080/"
        },
        "id": "bXa9f6NT9GBJ",
        "outputId": "0a325bc3-3021-4836-d0e9-37d9e20cf0bc"
      },
      "outputs": [
        {
          "output_type": "execute_result",
          "data": {
            "text/plain": [
              "Product Description    0\n",
              "Product Status         1\n",
              "Customer Password      1\n",
              "Customer Email         1\n",
              "Late_delivery_risk     2\n",
              "dtype: int64"
            ]
          },
          "metadata": {},
          "execution_count": 9
        }
      ],
      "source": [
        "dfunique= df.nunique().sort_values(ascending= True, na_position='first')\n",
        "dfunique.head()\n",
        "#dfunique.to_frame().reset_index().rename(columns={'index': 'Attribute', 0: 'Unique Values'}).head().to_csv('unique1.csv', index=False)"
      ]
    },
    {
      "cell_type": "code",
      "execution_count": 10,
      "metadata": {
        "id": "Ct98Llmy6dDg"
      },
      "outputs": [],
      "source": [
        "df.drop(dfunique.index[np.where(dfunique < 2)], axis=1, inplace=True)"
      ]
    },
    {
      "cell_type": "markdown",
      "source": [
        "Checking low variance for possible no information attributes. "
      ],
      "metadata": {
        "id": "_m8HJ7a864GZ"
      }
    },
    {
      "cell_type": "code",
      "execution_count": 11,
      "metadata": {
        "colab": {
          "base_uri": "https://localhost:8080/"
        },
        "id": "YCx8aZin1Cmf",
        "outputId": "b76fbca6-9a22-4703-90dd-d86277a8ae5d"
      },
      "outputs": [
        {
          "output_type": "execute_result",
          "data": {
            "text/plain": [
              "Order Item Discount Rate         0.004958\n",
              "Order Item Profit Ratio          0.217898\n",
              "Late_delivery_risk               0.247669\n",
              "Days for shipment (scheduled)    1.889111\n",
              "Order Item Quantity              2.112521\n",
              "dtype: float64"
            ]
          },
          "metadata": {},
          "execution_count": 11
        }
      ],
      "source": [
        "df.var().sort_values().head()\n",
        "#df.var().sort_values().head().to_frame().reset_index().rename(columns={'index': 'Attribute', 0: 'Variance'}).to_csv('variance.csv', index=False)"
      ]
    },
    {
      "cell_type": "code",
      "execution_count": 12,
      "metadata": {
        "colab": {
          "base_uri": "https://localhost:8080/"
        },
        "id": "E1oiv62K1Cmg",
        "outputId": "a1a1f822-6e58-458c-b9df-71905ab36afa"
      },
      "outputs": [
        {
          "output_type": "execute_result",
          "data": {
            "text/plain": [
              "0.04    10029\n",
              "0.15    10029\n",
              "0.25    10029\n",
              "0.20    10029\n",
              "0.18    10029\n",
              "Name: Order Item Discount Rate, dtype: int64"
            ]
          },
          "metadata": {},
          "execution_count": 12
        }
      ],
      "source": [
        "df['Order Item Discount Rate'].value_counts().head()\n",
        "#df['Order Item Discount Rate'].value_counts().head().to_frame().reset_index().rename(columns={'index': 'Value', 'Order Item Discount Rate': 'Value counts'}).to_csv('Value Count of Low Variable Attribute.csv', index=False)"
      ]
    },
    {
      "cell_type": "code",
      "execution_count": 13,
      "metadata": {
        "colab": {
          "base_uri": "https://localhost:8080/"
        },
        "id": "Y2JcxDny1Cmh",
        "outputId": "8e816bc8-d3cf-440f-8a96-5cd694d09324"
      },
      "outputs": [
        {
          "output_type": "execute_result",
          "data": {
            "text/plain": [
              "0"
            ]
          },
          "metadata": {},
          "execution_count": 13
        }
      ],
      "source": [
        "df.duplicated().sum()"
      ]
    },
    {
      "cell_type": "code",
      "execution_count": 14,
      "metadata": {
        "colab": {
          "base_uri": "https://localhost:8080/"
        },
        "id": "iVqEYv4f1Cmi",
        "outputId": "154c9d0b-c974-4450-be99-5dc09139f2a3"
      },
      "outputs": [
        {
          "output_type": "execute_result",
          "data": {
            "text/plain": [
              "Order Zipcode             155679\n",
              "Customer Lname                 8\n",
              "Customer Zipcode               3\n",
              "Type                           0\n",
              "Order Item Cardprod Id         0\n",
              "dtype: int64"
            ]
          },
          "metadata": {},
          "execution_count": 14
        }
      ],
      "source": [
        "dfna= df.isna().sum().sort_values(ascending=False)\n",
        "dfna.head()"
      ]
    },
    {
      "cell_type": "markdown",
      "source": [
        "Dropped any attribute that have more na values than non-na values.  "
      ],
      "metadata": {
        "id": "woW9LGvs7QUw"
      }
    },
    {
      "cell_type": "code",
      "execution_count": 15,
      "metadata": {
        "id": "XyqQ0EAA1Cmj"
      },
      "outputs": [],
      "source": [
        "df.drop(dfna.index[np.where(dfna > df.shape[0]/2)], axis = 1, inplace= True)"
      ]
    },
    {
      "cell_type": "markdown",
      "source": [
        "Filled numeric attributes that have na values with corresponding mean value of the attribute."
      ],
      "metadata": {
        "id": "SXnfK9Sj8KAc"
      }
    },
    {
      "cell_type": "code",
      "source": [
        "num= df.select_dtypes('number')\n",
        "df[num.columns] = num.fillna(num.mean())"
      ],
      "metadata": {
        "id": "kWl95Fkf_vDA"
      },
      "execution_count": 16,
      "outputs": []
    },
    {
      "cell_type": "markdown",
      "source": [
        "Then filled remaining na values in categorical attributes with a string."
      ],
      "metadata": {
        "id": "fA-VEU3k8WRU"
      }
    },
    {
      "cell_type": "code",
      "source": [
        "df = df.fillna('')"
      ],
      "metadata": {
        "id": "K0wigOsFMWHc"
      },
      "execution_count": 17,
      "outputs": []
    },
    {
      "cell_type": "code",
      "execution_count": 18,
      "metadata": {
        "colab": {
          "base_uri": "https://localhost:8080/"
        },
        "id": "yLME8orw1Cml",
        "outputId": "069c61cb-9cb0-493f-e8bb-05b0dd3e495a"
      },
      "outputs": [
        {
          "output_type": "execute_result",
          "data": {
            "text/plain": [
              "0"
            ]
          },
          "metadata": {},
          "execution_count": 18
        }
      ],
      "source": [
        "df.isna().sum().sum()"
      ]
    },
    {
      "cell_type": "code",
      "execution_count": 19,
      "metadata": {
        "id": "lpAK-w3G1Cmm"
      },
      "outputs": [],
      "source": [
        "df.drop([\"Product Image\", \"Order Item Cardprod Id\", \"Order Item Id\", \"Product Card Id\", \"Category Id\", \"Customer Country\", \"Customer State\", \"Customer Street\", \"Department Id\", \"Customer Fname\", \"Order Item Discount\", \"Product Category Id\"], axis = 1, inplace= True)"
      ]
    },
    {
      "cell_type": "markdown",
      "source": [
        "Checking correlation between attributes to see whether different attributes give the same or similar information in the dataset."
      ],
      "metadata": {
        "id": "LLz28ily9EfI"
      }
    },
    {
      "cell_type": "code",
      "execution_count": 20,
      "metadata": {
        "colab": {
          "base_uri": "https://localhost:8080/",
          "height": 602
        },
        "id": "YgKp8UxJ1Cmn",
        "outputId": "df513bfe-e9e2-4e14-bc0c-da1983f87a05"
      },
      "outputs": [
        {
          "output_type": "execute_result",
          "data": {
            "text/plain": [
              "<matplotlib.axes._subplots.AxesSubplot at 0x7fcc6d998510>"
            ]
          },
          "metadata": {},
          "execution_count": 20
        },
        {
          "output_type": "execute_result",
          "data": {
            "text/plain": [
              "Text(0.5, 1.0, 'Correlation Heatmap')"
            ]
          },
          "metadata": {},
          "execution_count": 20
        },
        {
          "output_type": "display_data",
          "data": {
            "text/plain": [
              "<Figure size 864x576 with 2 Axes>"
            ],
            "image/png": "[encoded data removed]"
          },
          "metadata": {
            "needs_background": "light"
          }
        }
      ],
      "source": [
        "fig, ax = plt.subplots(figsize=(12,8))\n",
        "sns.heatmap(round(df.corr(), 3), annot = True, linewidths=.1, annot_kws={\"size\": 8})\n",
        "plt.title('Correlation Heatmap', size= 25, pad=15)\n",
        "plt.tight_layout()\n",
        "#plt.savefig('Correlation Heatmap.png', dpi=200)"
      ]
    },
    {
      "cell_type": "code",
      "execution_count": 21,
      "metadata": {
        "colab": {
          "base_uri": "https://localhost:8080/"
        },
        "id": "kZiW6bm-1Cmp",
        "outputId": "ccf68cbf-efa2-48b1-e2f4-42f995ce3845"
      },
      "outputs": [
        {
          "output_type": "execute_result",
          "data": {
            "text/plain": [
              "Product Price            Order Item Product Price    1.000000\n",
              "Order Profit Per Order   Benefit per order           1.000000\n",
              "Order Customer Id        Customer Id                 1.000000\n",
              "Order Item Total         Sales per customer          1.000000\n",
              "                         Sales                       0.989744\n",
              "Sales                    Sales per customer          0.989744\n",
              "Order Profit Per Order   Order Item Profit Ratio     0.823689\n",
              "Order Item Profit Ratio  Benefit per order           0.823689\n",
              "Product Price            Sales                       0.789948\n",
              "Sales                    Order Item Product Price    0.789948\n",
              "dtype: float64"
            ]
          },
          "metadata": {},
          "execution_count": 21
        }
      ],
      "source": [
        "# Retain upper triangular values of correlation matrix and make Lower triangular values Null\n",
        "upper_corr_mat = df.corr().where(np.triu(np.ones(df.corr().shape), k=1).astype(bool))\n",
        "  \n",
        "# Convert to 1-D series and drop Null values\n",
        "unique_corr_pairs = upper_corr_mat.unstack().dropna()\n",
        "\n",
        "# Sort correlation pairs\n",
        "unique_corr_pairs.sort_values(ascending= False).head(10)"
      ]
    },
    {
      "cell_type": "code",
      "source": [
        "#unique_corr_pairs.sort_values(ascending= False).head(10).to_frame().reset_index().rename(columns={'level_0': 'Attribute1', 'level_1': 'Attribute2' , 0: 'Correlation'}).to_csv('High Correlation.csv', index=False)"
      ],
      "metadata": {
        "id": "O5Y6QyIOOIGd"
      },
      "execution_count": 22,
      "outputs": []
    },
    {
      "cell_type": "code",
      "source": [
        "cortable= unique_corr_pairs.sort_values(ascending= False).reset_index()\n",
        "drop_corr= cortable[cortable.iloc[:,2] > 0.85][\"level_1\"].values.tolist()\n",
        "drop_corr"
      ],
      "metadata": {
        "colab": {
          "base_uri": "https://localhost:8080/"
        },
        "id": "bIx8sdPRRckN",
        "outputId": "750d49c9-75e8-427a-b1f0-4affe8da751c"
      },
      "execution_count": 23,
      "outputs": [
        {
          "output_type": "execute_result",
          "data": {
            "text/plain": [
              "['Order Item Product Price',\n",
              " 'Benefit per order',\n",
              " 'Customer Id',\n",
              " 'Sales per customer',\n",
              " 'Sales',\n",
              " 'Sales per customer']"
            ]
          },
          "metadata": {},
          "execution_count": 23
        }
      ]
    },
    {
      "cell_type": "code",
      "source": [
        "df.drop(drop_corr, axis=1, inplace=True)"
      ],
      "metadata": {
        "id": "9Y3POz27bycO"
      },
      "execution_count": 24,
      "outputs": []
    },
    {
      "cell_type": "code",
      "execution_count": 25,
      "metadata": {
        "colab": {
          "base_uri": "https://localhost:8080/"
        },
        "id": "fZPelZEg1Cmq",
        "outputId": "7b25eb16-7e9c-4d6c-eb2b-8dc526477792"
      },
      "outputs": [
        {
          "output_type": "execute_result",
          "data": {
            "text/plain": [
              "(180519, 31)"
            ]
          },
          "metadata": {},
          "execution_count": 25
        }
      ],
      "source": [
        "df.shape"
      ]
    },
    {
      "cell_type": "code",
      "execution_count": 26,
      "metadata": {
        "colab": {
          "base_uri": "https://localhost:8080/"
        },
        "id": "dpX1h2i51Cmr",
        "outputId": "47725d4c-9232-4b75-adfb-f9fe3177818b"
      },
      "outputs": [
        {
          "output_type": "execute_result",
          "data": {
            "text/plain": [
              "Type                              object\n",
              "Days for shipping (real)           int64\n",
              "Days for shipment (scheduled)      int64\n",
              "Delivery Status                   object\n",
              "Late_delivery_risk                 int64\n",
              "Category Name                     object\n",
              "Customer City                     object\n",
              "Customer Lname                    object\n",
              "Customer Segment                  object\n",
              "Customer Zipcode                 float64\n",
              "Department Name                   object\n",
              "Latitude                         float64\n",
              "Longitude                        float64\n",
              "Market                            object\n",
              "Order City                        object\n",
              "Order Country                     object\n",
              "Order Customer Id                  int64\n",
              "order date (DateOrders)           object\n",
              "Order Id                           int64\n",
              "Order Item Discount Rate         float64\n",
              "Order Item Profit Ratio          float64\n",
              "Order Item Quantity                int64\n",
              "Order Item Total                 float64\n",
              "Order Profit Per Order           float64\n",
              "Order Region                      object\n",
              "Order State                       object\n",
              "Order Status                      object\n",
              "Product Name                      object\n",
              "Product Price                    float64\n",
              "shipping date (DateOrders)        object\n",
              "Shipping Mode                     object\n",
              "dtype: object"
            ]
          },
          "metadata": {},
          "execution_count": 26
        }
      ],
      "source": [
        "df.dtypes"
      ]
    },
    {
      "cell_type": "markdown",
      "source": [
        "Changing the data type of  object attributes to categorical and date attributes to datetime."
      ],
      "metadata": {
        "id": "Z7CikNZ79q78"
      }
    },
    {
      "cell_type": "code",
      "execution_count": 27,
      "metadata": {
        "id": "ygK-i9BA1Cms"
      },
      "outputs": [],
      "source": [
        "col_types = {'Customer Lname':'category', 'Customer City':'category', 'Order State':'category' ,'Type':'category', 'Delivery Status':'category', 'Category Name':'category', 'Customer Segment':'category', 'Department Name':'category', 'Market':'category', 'Order Region':'category', 'Order Status':'category', 'Product Name':'category', 'Shipping Mode':'category', 'Order City':'category', 'Order Country':'category'}\n",
        "df = df.astype(col_types)"
      ]
    },
    {
      "cell_type": "code",
      "execution_count": 28,
      "metadata": {
        "id": "ecDkE79H1Cmr"
      },
      "outputs": [],
      "source": [
        "df[\"shipping date (DateOrders)\"] = pd.to_datetime(df[\"shipping date (DateOrders)\"], infer_datetime_format=True)\n",
        "df[\"order date (DateOrders)\"] = pd.to_datetime(df[\"order date (DateOrders)\"], infer_datetime_format=True)"
      ]
    },
    {
      "cell_type": "code",
      "execution_count": 29,
      "metadata": {
        "colab": {
          "base_uri": "https://localhost:8080/"
        },
        "id": "p7TghnOk1Cmt",
        "outputId": "e2c6bdb3-7e1f-4409-c6cd-713bc25919a2"
      },
      "outputs": [
        {
          "output_type": "execute_result",
          "data": {
            "text/plain": [
              "Type                                   category\n",
              "Days for shipping (real)                  int64\n",
              "Days for shipment (scheduled)             int64\n",
              "Delivery Status                        category\n",
              "Late_delivery_risk                        int64\n",
              "Category Name                          category\n",
              "Customer City                          category\n",
              "Customer Lname                         category\n",
              "Customer Segment                       category\n",
              "Customer Zipcode                        float64\n",
              "Department Name                        category\n",
              "Latitude                                float64\n",
              "Longitude                               float64\n",
              "Market                                 category\n",
              "Order City                             category\n",
              "Order Country                          category\n",
              "Order Customer Id                         int64\n",
              "order date (DateOrders)          datetime64[ns]\n",
              "Order Id                                  int64\n",
              "Order Item Discount Rate                float64\n",
              "Order Item Profit Ratio                 float64\n",
              "Order Item Quantity                       int64\n",
              "Order Item Total                        float64\n",
              "Order Profit Per Order                  float64\n",
              "Order Region                           category\n",
              "Order State                            category\n",
              "Order Status                           category\n",
              "Product Name                           category\n",
              "Product Price                           float64\n",
              "shipping date (DateOrders)       datetime64[ns]\n",
              "Shipping Mode                          category\n",
              "dtype: object"
            ]
          },
          "metadata": {},
          "execution_count": 29
        }
      ],
      "source": [
        "df.dtypes"
      ]
    },
    {
      "cell_type": "markdown",
      "metadata": {
        "id": "LKYti98P1Cmu"
      },
      "source": [
        "#### Exploratory Data Analysis"
      ]
    },
    {
      "cell_type": "code",
      "execution_count": 30,
      "metadata": {
        "colab": {
          "base_uri": "https://localhost:8080/",
          "height": 467
        },
        "id": "zqlNFHbm1Cmv",
        "outputId": "c2d60d71-fb8e-4ad7-e11b-9179b8a917d6"
      },
      "outputs": [
        {
          "output_type": "display_data",
          "data": {
            "text/plain": [
              "<Figure size 504x504 with 1 Axes>"
            ],
            "image/png": "[encoded data removed]"
          },
          "metadata": {}
        }
      ],
      "source": [
        "plt.subplots(figsize=(7,7))\n",
        "plt.pie(df['Shipping Mode'].value_counts(),\n",
        "    labels= dict(df['Shipping Mode'].value_counts()).keys(),\n",
        "    autopct= '%1.1f%%',\n",
        "    startangle= 90,\n",
        "    counterclock=False,\n",
        "    wedgeprops = {'edgecolor' : 'white'})\n",
        "plt.title('Shipping Mode Distribution', size= 20)\n",
        "plt.tight_layout()\n",
        "#plt.savefig('shipping mode.png',dpi=200)\n",
        "plt.show();\n"
      ]
    },
    {
      "cell_type": "markdown",
      "source": [
        "Standard class shipping is the highest share among all shipping modes as expected covering more than half of the shipping. It is followed by second class, first class and same day shipping respectively."
      ],
      "metadata": {
        "id": "uRhUI4J84Oq2"
      }
    },
    {
      "cell_type": "code",
      "source": [
        "late = df[(df['Late_delivery_risk'] == 1)]\n",
        "ontime = df[(df['Late_delivery_risk'] == 0)]\n",
        "count1=late['Shipping Mode'].value_counts()\n",
        "count2=ontime['Shipping Mode'].value_counts()\n",
        "names=df['Shipping Mode'].value_counts().keys()\n",
        "fig,ax = plt.subplots(figsize=(10,6))\n",
        "index=np.arange(4)\n",
        "bar_width=0.3\n",
        "opacity=0.6\n",
        "type1=plt.bar(index,count1,bar_width,alpha=opacity,color='b',label='Late Delivery')\n",
        "type2=plt.bar(index+bar_width,count2,bar_width,alpha=opacity,color='r',label='Delivery on Time')\n",
        "plt.xlabel('Shipping Mode', fontsize= 14)\n",
        "plt.ylabel('Number of Deliveries', fontsize= 14)\n",
        "plt.title('Late Delivery Risk by Shipping Mode', fontsize= 20, y=1.015)\n",
        "plt.legend(fontsize= 13)\n",
        "plt.xticks(index+bar_width/2,names)\n",
        "plt.tight_layout()\n",
        "#plt.savefig('late delivery risk - shipping mode.png',dpi=200)\n",
        "plt.show();"
      ],
      "metadata": {
        "colab": {
          "base_uri": "https://localhost:8080/",
          "height": 442
        },
        "id": "8PAKj_BpJz2S",
        "outputId": "c252d405-a446-4dc3-e0d5-a8b3424ff468"
      },
      "execution_count": 31,
      "outputs": [
        {
          "output_type": "display_data",
          "data": {
            "text/plain": [
              "<Figure size 720x432 with 1 Axes>"
            ],
            "image/png": "[encoded data removed]"
          },
          "metadata": {
            "needs_background": "light"
          }
        }
      ]
    },
    {
      "cell_type": "markdown",
      "source": [
        "First class and same day shipping modes are offering more luxury delivery options. However, proportion of late delivery among those categories are higher than standard class delivery."
      ],
      "metadata": {
        "id": "dFSsIJY_4VXs"
      }
    },
    {
      "cell_type": "code",
      "execution_count": 32,
      "metadata": {
        "id": "CZ26qRje1Cmw"
      },
      "outputs": [],
      "source": [
        "profits= df.groupby('Product Name')['Order Profit Per Order'].mean().sort_values(ascending=False).head(10).sort_values()\n"
      ]
    },
    {
      "cell_type": "code",
      "execution_count": 33,
      "metadata": {
        "colab": {
          "base_uri": "https://localhost:8080/",
          "height": 513
        },
        "id": "_XA9pv911Cmx",
        "outputId": "3cbd6760-9ebc-4518-e1dc-2afc5be5a14e"
      },
      "outputs": [
        {
          "output_type": "display_data",
          "data": {
            "text/plain": [
              "<Figure size 1008x504 with 1 Axes>"
            ],
            "image/png": "[encoded data removed]"
          },
          "metadata": {
            "needs_background": "light"
          }
        }
      ],
      "source": [
        "plt.subplots(figsize=(14,7))\n",
        "plt.barh(list(dict(profits).keys()), profits, color= 'teal')\n",
        "plt.title('Most Profitable Products', fontweight ='bold', size= 25, loc='left', pad=16)\n",
        "plt.xlabel('Profit per Item ($)', fontsize = 18)\n",
        "plt.rc('axes', labelsize=10)    \n",
        "plt.tight_layout()\n",
        "\n",
        "#plt.savefig('most profitable products.png',dpi=200)\n",
        "plt.show();"
      ]
    },
    {
      "cell_type": "code",
      "execution_count": 34,
      "metadata": {
        "id": "Dd8bOEJf1Cmx"
      },
      "outputs": [],
      "source": [
        "salesdate= df.groupby(pd.Grouper(key= 'order date (DateOrders)', freq= 'M')).agg({'Order Item Total': 'sum'})\n",
        "profitdate= df.groupby(pd.Grouper(key= 'order date (DateOrders)', freq= 'M')).agg({'Order Profit Per Order': 'sum'})"
      ]
    },
    {
      "cell_type": "code",
      "execution_count": 35,
      "metadata": {
        "colab": {
          "base_uri": "https://localhost:8080/",
          "height": 411
        },
        "id": "2TYH5l681Cmz",
        "outputId": "ab45b898-a995-479b-c8bd-15bb13d0edfa"
      },
      "outputs": [
        {
          "output_type": "display_data",
          "data": {
            "text/plain": [
              "<Figure size 864x432 with 1 Axes>"
            ],
            "image/png": "[encoded data removed]"
          },
          "metadata": {
            "needs_background": "light"
          }
        }
      ],
      "source": [
        "plt.subplots(figsize=(12,6))\n",
        "plt.ticklabel_format(style='plain')\n",
        "sns.lineplot(x=profitdate.index.month, y='Order Profit Per Order', data=profitdate, hue= profitdate.index.year, palette= 'tab10')\n",
        "plt.title('Profit per Month between 2015-2018', fontsize = 18)\n",
        "plt.xlabel('Order Month', fontsize = 12)\n",
        "plt.ylabel('Profit per Month', fontsize = 12)\n",
        "#plt.savefig('profit per month.png',dpi=200)\n",
        "plt.show();"
      ]
    },
    {
      "cell_type": "markdown",
      "source": [
        "Monthly profit from the sales is relatively consistent through the years. However, the profit starts to drop at the end of 2017."
      ],
      "metadata": {
        "id": "PqR5hOD24ilX"
      }
    },
    {
      "cell_type": "code",
      "execution_count": 36,
      "metadata": {
        "colab": {
          "base_uri": "https://localhost:8080/",
          "height": 411
        },
        "id": "UI61EaAS1Cmy",
        "outputId": "9c1c9023-14be-426c-e75b-845654786095"
      },
      "outputs": [
        {
          "output_type": "display_data",
          "data": {
            "text/plain": [
              "<Figure size 864x432 with 1 Axes>"
            ],
            "image/png": "[encoded data removed]"
          },
          "metadata": {
            "needs_background": "light"
          }
        }
      ],
      "source": [
        "plt.subplots(figsize=(12,6))\n",
        "plt.ticklabel_format(style='plain')\n",
        "plt.plot(salesdate.index, salesdate[\"Order Item Total\"], label= 'Sales')\n",
        "plt.plot(profitdate.index, profitdate[\"Order Profit Per Order\"], label= 'Profit')\n",
        "plt.title('Sales vs Profit per Month', fontsize = 18)\n",
        "plt.xlabel('Date', fontsize = 12)\n",
        "plt.ylabel('USD', fontsize = 12)\n",
        "plt.legend()\n",
        "#plt.savefig('sales vs profit.png',dpi=200)\n",
        "plt.show();"
      ]
    },
    {
      "cell_type": "markdown",
      "source": [
        "Looking at profit data together with sales data clarifies the sudden drop in profits on the late 2017. Declining sales clearly affected the monthly profit amount."
      ],
      "metadata": {
        "id": "BZUkGFXy4lOB"
      }
    },
    {
      "cell_type": "markdown",
      "metadata": {
        "id": "e4IvcutS1Cm0"
      },
      "source": [
        "#### Encoding Date Variables & Feature Selection"
      ]
    },
    {
      "cell_type": "code",
      "execution_count": 37,
      "metadata": {
        "id": "pfDNWtno1Cm1"
      },
      "outputs": [],
      "source": [
        "df[\"ship_year\"]= df[\"shipping date (DateOrders)\"].dt.year\n",
        "df[\"ship_month\"]= df[\"shipping date (DateOrders)\"].dt.month\n",
        "df[\"ship_day\"]= df[\"shipping date (DateOrders)\"].dt.day\n",
        "df[\"ship_hour\"]= df[\"shipping date (DateOrders)\"].dt.hour\n",
        "df.drop([\"shipping date (DateOrders)\"], axis = 1, inplace= True)"
      ]
    },
    {
      "cell_type": "code",
      "execution_count": 38,
      "metadata": {
        "id": "FDVFJ0yc1Cm1"
      },
      "outputs": [],
      "source": [
        "df[\"order_year\"]= df[\"order date (DateOrders)\"].dt.year\n",
        "df[\"order_month\"]= df[\"order date (DateOrders)\"].dt.month\n",
        "df[\"order_day\"]= df[\"order date (DateOrders)\"].dt.day\n",
        "df[\"order_hour\"]= df[\"order date (DateOrders)\"].dt.hour\n",
        "df.drop([\"order date (DateOrders)\"], axis = 1, inplace= True)"
      ]
    },
    {
      "cell_type": "code",
      "execution_count": 41,
      "metadata": {
        "colab": {
          "base_uri": "https://localhost:8080/",
          "height": 495
        },
        "id": "1HhH0VjM1Cm4",
        "outputId": "1e99ef24-c841-42fd-f0a8-4c72f959e028"
      },
      "outputs": [
        {
          "output_type": "display_data",
          "data": {
            "text/plain": [
              "<Figure size 1008x432 with 25 Axes>"
            ],
            "image/png": "[encoded data removed]"
          },
          "metadata": {
            "needs_background": "light"
          }
        }
      ],
      "source": [
        "df.hist(figsize=(14,6))\n",
        "plt.tight_layout()\n",
        "plt.suptitle('Numerical Attributes Distribution Histogram', size= 20, y= 1.1)\n",
        "#plt.savefig('Numerical Attributes Distribution Histogram.png',dpi=200)\n",
        "plt.show();"
      ]
    },
    {
      "cell_type": "code",
      "execution_count": 45,
      "metadata": {
        "colab": {
          "base_uri": "https://localhost:8080/",
          "height": 444
        },
        "id": "VhextaJIIcJr",
        "outputId": "5b4749bb-a74d-41f3-d950-ef7d4279a53a"
      },
      "outputs": [
        {
          "output_type": "display_data",
          "data": {
            "text/plain": [
              "<Figure size 1440x576 with 19 Axes>"
            ],
            "image/png": "[encoded data removed]"
          },
          "metadata": {
            "needs_background": "light"
          }
        }
      ],
      "source": [
        "fig, axes = plt.subplots(5,4,figsize=(20,8))\n",
        "fig.delaxes(axes[4][3])\n",
        "numdf= df.select_dtypes(exclude=\"category\")\n",
        "for attr, ax in zip(numdf.columns, axes.flatten()):\n",
        "    sns.boxplot(x=attr, data=numdf, ax=ax)\n",
        "    \n",
        "plt.tight_layout()\n",
        "fig.suptitle('Numerical Attributes Distribution Boxplots', size= 25) \n",
        "fig.subplots_adjust(top=0.88)\n",
        "#plt.savefig('Numerical Attributes Distribution Boxplots.png',dpi=200)\n",
        "\n",
        "plt.show();"
      ]
    },
    {
      "cell_type": "code",
      "execution_count": null,
      "metadata": {
        "colab": {
          "base_uri": "https://localhost:8080/"
        },
        "id": "1h73SiW81Cm2",
        "outputId": "4f6e1099-3be1-4fc4-b741-2cf3486cdabb"
      },
      "outputs": [
        {
          "output_type": "execute_result",
          "data": {
            "text/plain": [
              "Index(['Type', 'Delivery Status', 'Category Name', 'Customer City',\n",
              "       'Customer Lname', 'Customer Segment', 'Department Name', 'Market',\n",
              "       'Order City', 'Order Country', 'Order Region', 'Order State',\n",
              "       'Order Status', 'Product Name', 'Shipping Mode'],\n",
              "      dtype='object')"
            ]
          },
          "metadata": {},
          "execution_count": 198
        }
      ],
      "source": [
        "# Categorical Attributes\n",
        "df.select_dtypes(include=\"category\").columns"
      ]
    },
    {
      "cell_type": "code",
      "execution_count": null,
      "metadata": {
        "colab": {
          "base_uri": "https://localhost:8080/"
        },
        "id": "H-fUET4l1Cm3",
        "outputId": "abf3093c-da0b-4abf-fdd7-f5ed2624f915"
      },
      "outputs": [
        {
          "output_type": "execute_result",
          "data": {
            "text/plain": [
              "Days for shipping (real)           int64\n",
              "Days for shipment (scheduled)      int64\n",
              "Late_delivery_risk                 int64\n",
              "Customer Zipcode                 float64\n",
              "Latitude                         float64\n",
              "Longitude                        float64\n",
              "Order Customer Id                  int64\n",
              "Order Id                           int64\n",
              "Order Item Discount Rate         float64\n",
              "Order Item Profit Ratio          float64\n",
              "Order Item Quantity                int64\n",
              "Order Item Total                 float64\n",
              "Order Profit Per Order           float64\n",
              "Product Price                    float64\n",
              "ship_year                          int64\n",
              "ship_month                         int64\n",
              "ship_day                           int64\n",
              "ship_hour                          int64\n",
              "order_year                         int64\n",
              "order_month                        int64\n",
              "order_day                          int64\n",
              "order_hour                         int64\n",
              "dtype: object"
            ]
          },
          "metadata": {},
          "execution_count": 199
        }
      ],
      "source": [
        "# Numerical Attributes\n",
        "df.select_dtypes(exclude=\"category\").dtypes"
      ]
    },
    {
      "cell_type": "markdown",
      "source": [
        "####Machine Learning Models with Numerical Features"
      ],
      "metadata": {
        "id": "Q4N-tsJXCfXW"
      }
    },
    {
      "cell_type": "markdown",
      "metadata": {
        "id": "7I66v0-s1Cm3"
      },
      "source": [
        "##### Regression Models for Profit Estimation"
      ]
    },
    {
      "cell_type": "code",
      "execution_count": 47,
      "metadata": {
        "id": "TYv0YCWs1Cm3"
      },
      "outputs": [],
      "source": [
        "# Only Numerical Data\n",
        "numdf= df.select_dtypes(exclude=\"category\")"
      ]
    },
    {
      "cell_type": "code",
      "execution_count": 48,
      "metadata": {
        "id": "ft-ZWkwR1Cm4"
      },
      "outputs": [],
      "source": [
        "#creating explanatory and response variable\n",
        "X= numdf.drop([\"Order Profit Per Order\"], axis= 1)\n",
        "y= numdf[\"Order Profit Per Order\"]"
      ]
    },
    {
      "cell_type": "code",
      "execution_count": 49,
      "metadata": {
        "id": "JBtDbG0z1Cm5"
      },
      "outputs": [],
      "source": [
        "#splitting train and test datasets\n",
        "X_train, X_test, y_train, y_test= train_test_split(X,y, test_size=0.3, random_state= 5)"
      ]
    },
    {
      "cell_type": "code",
      "execution_count": 50,
      "metadata": {
        "id": "3IKSWQgg1Cm6"
      },
      "outputs": [],
      "source": [
        "lr= LinearRegression().fit(X_train, y_train)"
      ]
    },
    {
      "cell_type": "code",
      "execution_count": 51,
      "metadata": {
        "colab": {
          "base_uri": "https://localhost:8080/"
        },
        "id": "aDCgR07Z1Cm7",
        "outputId": "7248089b-626f-4ee4-96cd-b471e86557bc"
      },
      "outputs": [
        {
          "output_type": "stream",
          "name": "stdout",
          "text": [
            "Linear Regression r2 score: 0.689\n"
          ]
        }
      ],
      "source": [
        "# Coefficient of determination\n",
        "print(\"Linear Regression r2 score:\", round(r2_score(y_test, lr.predict(X_test)),3))"
      ]
    },
    {
      "cell_type": "code",
      "execution_count": 52,
      "metadata": {
        "colab": {
          "base_uri": "https://localhost:8080/",
          "height": 295
        },
        "id": "T1mLXmXo1Cm7",
        "outputId": "0137bebf-12a1-49f1-96f2-2059b8048797"
      },
      "outputs": [
        {
          "output_type": "display_data",
          "data": {
            "text/plain": [
              "<Figure size 432x288 with 1 Axes>"
            ],
            "image/png": "[encoded data removed]"
          },
          "metadata": {
            "needs_background": "light"
          }
        }
      ],
      "source": [
        "plt.scatter(y_test, lr.predict(X_test), color = 'red')\n",
        "plt.xlabel('actual')\n",
        "plt.ylabel('predicted')\n",
        "plt.title(\"Linear Regression Predictions\")\n",
        "#plt.savefig('Linear Regression Predictions.png',dpi=200)\n",
        "\n",
        "plt.show();"
      ]
    },
    {
      "cell_type": "code",
      "execution_count": 53,
      "metadata": {
        "colab": {
          "base_uri": "https://localhost:8080/"
        },
        "id": "5LOGAw9O1Cm7",
        "outputId": "bce434bb-1042-4ca8-fb4c-2dd78c411d5d"
      },
      "outputs": [
        {
          "output_type": "stream",
          "name": "stdout",
          "text": [
            "Decision Tree Regressor r2 score: 0.946\n"
          ]
        }
      ],
      "source": [
        "dtree = DecisionTreeRegressor(max_depth=5, random_state=5)\n",
        "dtree.fit(X_train, y_train)\n",
        "print(\"Decision Tree Regressor r2 score:\", round(dtree.score(X_test, y_test),3));"
      ]
    },
    {
      "cell_type": "code",
      "execution_count": 54,
      "metadata": {
        "colab": {
          "base_uri": "https://localhost:8080/",
          "height": 295
        },
        "id": "6ymAoOKE1Cm8",
        "outputId": "682c5eee-0208-4cc2-ce91-e03045f93529"
      },
      "outputs": [
        {
          "output_type": "display_data",
          "data": {
            "text/plain": [
              "<Figure size 432x288 with 1 Axes>"
            ],
            "image/png": "[encoded data removed]"
          },
          "metadata": {
            "needs_background": "light"
          }
        }
      ],
      "source": [
        "plt.scatter(y_test, dtree.predict(X_test), color = 'red')\n",
        "plt.xlabel('actual')\n",
        "plt.ylabel('predicted')\n",
        "plt.title(\"Decision Tree Regressor Predictions\")\n",
        "#plt.savefig('Decision Tree Regressor Predictions.png',dpi=200)\n",
        "\n",
        "plt.show();"
      ]
    },
    {
      "cell_type": "markdown",
      "metadata": {
        "id": "xn44HXmn1Cm8"
      },
      "source": [
        "##### Classification Models for Late Delivery Risk"
      ]
    },
    {
      "cell_type": "code",
      "execution_count": null,
      "metadata": {
        "colab": {
          "base_uri": "https://localhost:8080/"
        },
        "id": "OyYwloUK1Cm9",
        "outputId": "411173de-e05b-4109-ed77-d1b385b17124"
      },
      "outputs": [
        {
          "output_type": "execute_result",
          "data": {
            "text/plain": [
              "1    98977\n",
              "0    81542\n",
              "Name: Late_delivery_risk, dtype: int64"
            ]
          },
          "metadata": {},
          "execution_count": 208
        }
      ],
      "source": [
        "df['Late_delivery_risk'].value_counts() #check for unbalanced data\n",
        "#df['Late_delivery_risk'].value_counts().to_frame().reset_index().rename(columns={'index': 'Level', 'Late_delivery_risk': 'Value Count'}).to_csv('Check Balance Data.csv', index=False)"
      ]
    },
    {
      "cell_type": "code",
      "execution_count": null,
      "metadata": {
        "id": "0eBRjc701Cm9"
      },
      "outputs": [],
      "source": [
        "X= numdf.drop([\"Late_delivery_risk\"], axis= 1) \n",
        "y= numdf[\"Late_delivery_risk\"]"
      ]
    },
    {
      "cell_type": "code",
      "execution_count": null,
      "metadata": {
        "id": "bFWDnlYi1Cm-"
      },
      "outputs": [],
      "source": [
        "X_train, X_test, y_train, y_test = train_test_split(X, y, test_size = 0.25, random_state = 42)"
      ]
    },
    {
      "cell_type": "code",
      "execution_count": null,
      "metadata": {
        "id": "eDPBu2w-1Cm-"
      },
      "outputs": [],
      "source": [
        "sc = StandardScaler()\n",
        "X_train = sc.fit_transform(X_train)\n",
        "X_test = sc.transform(X_test)"
      ]
    },
    {
      "cell_type": "code",
      "execution_count": null,
      "metadata": {
        "id": "yKvrQeQ-1Cm-"
      },
      "outputs": [],
      "source": [
        "classifiers= []\n",
        "classifiers.append(KNeighborsClassifier(n_neighbors=1))\n",
        "classifiers.append(LogisticRegression())\n",
        "classifiers.append(GaussianNB())\n",
        "classifiers.append(RandomForestClassifier(max_depth=5))"
      ]
    },
    {
      "cell_type": "markdown",
      "source": [
        "Train test split (also named hold-out validation) is basicly splitting dataset into train and test sets randomly. Train set is used for fitting the model and test set is used for validation."
      ],
      "metadata": {
        "id": "qV8bqx3A3ER1"
      }
    },
    {
      "cell_type": "code",
      "execution_count": null,
      "metadata": {
        "id": "I3GBZm5r1Cm_"
      },
      "outputs": [],
      "source": [
        "#train-test split or hold-out validation\n",
        "accuracy_results1= []\n",
        "for a in classifiers:\n",
        "  accuracy_results1.append(round(accuracy_score(y_test, a.fit(X_train, y_train).predict(X_test))*100,2))#y_pred))"
      ]
    },
    {
      "cell_type": "code",
      "execution_count": null,
      "metadata": {
        "colab": {
          "base_uri": "https://localhost:8080/",
          "height": 175
        },
        "id": "XV78ytip1CnF",
        "outputId": "aa8f7091-0d30-4957-bb69-bfe64fcc1e26"
      },
      "outputs": [
        {
          "output_type": "execute_result",
          "data": {
            "text/plain": [
              "                 Model  train_test_split\n",
              "0                  KNN             87.60\n",
              "1  Logistic Regression             97.54\n",
              "2          Naive Bayes             94.36\n",
              "3        Random Forest             93.63"
            ],
            "text/html": [
              "\n",
              "  <div id=\"df-291edc10-c38c-4e3f-9449-adf37bf3d013\">\n",
              "    <div class=\"colab-df-container\">\n",
              "      <div>\n",
              "<style scoped>\n",
              "    .dataframe tbody tr th:only-of-type {\n",
              "        vertical-align: middle;\n",
              "    }\n",
              "\n",
              "    .dataframe tbody tr th {\n",
              "        vertical-align: top;\n",
              "    }\n",
              "\n",
              "    .dataframe thead th {\n",
              "        text-align: right;\n",
              "    }\n",
              "</style>\n",
              "<table border=\"1\" class=\"dataframe\">\n",
              "  <thead>\n",
              "    <tr style=\"text-align: right;\">\n",
              "      <th></th>\n",
              "      <th>Model</th>\n",
              "      <th>train_test_split</th>\n",
              "    </tr>\n",
              "  </thead>\n",
              "  <tbody>\n",
              "    <tr>\n",
              "      <th>0</th>\n",
              "      <td>KNN</td>\n",
              "      <td>87.60</td>\n",
              "    </tr>\n",
              "    <tr>\n",
              "      <th>1</th>\n",
              "      <td>Logistic Regression</td>\n",
              "      <td>97.54</td>\n",
              "    </tr>\n",
              "    <tr>\n",
              "      <th>2</th>\n",
              "      <td>Naive Bayes</td>\n",
              "      <td>94.36</td>\n",
              "    </tr>\n",
              "    <tr>\n",
              "      <th>3</th>\n",
              "      <td>Random Forest</td>\n",
              "      <td>93.63</td>\n",
              "    </tr>\n",
              "  </tbody>\n",
              "</table>\n",
              "</div>\n",
              "      <button class=\"colab-df-convert\" onclick=\"convertToInteractive('df-291edc10-c38c-4e3f-9449-adf37bf3d013')\"\n",
              "              title=\"Convert this dataframe to an interactive table.\"\n",
              "              style=\"display:none;\">\n",
              "        \n",
              "  <svg xmlns=\"http://www.w3.org/2000/svg\" height=\"24px\"viewBox=\"0 0 24 24\"\n",
              "       width=\"24px\">\n",
              "    <path d=\"M0 0h24v24H0V0z\" fill=\"none\"/>\n",
              "    <path d=\"M18.56 5.44l.94 2.06.94-2.06 2.06-.94-2.06-.94-.94-2.06-.94 2.06-2.06.94zm-11 1L8.5 8.5l.94-2.06 2.06-.94-2.06-.94L8.5 2.5l-.94 2.06-2.06.94zm10 10l.94 2.06.94-2.06 2.06-.94-2.06-.94-.94-2.06-.94 2.06-2.06.94z\"/><path d=\"M17.41 7.96l-1.37-1.37c-.4-.4-.92-.59-1.43-.59-.52 0-1.04.2-1.43.59L10.3 9.45l-7.72 7.72c-.78.78-.78 2.05 0 2.83L4 21.41c.39.39.9.59 1.41.59.51 0 1.02-.2 1.41-.59l7.78-7.78 2.81-2.81c.8-.78.8-2.07 0-2.86zM5.41 20L4 18.59l7.72-7.72 1.47 1.35L5.41 20z\"/>\n",
              "  </svg>\n",
              "      </button>\n",
              "      \n",
              "  <style>\n",
              "    .colab-df-container {\n",
              "      display:flex;\n",
              "      flex-wrap:wrap;\n",
              "      gap: 12px;\n",
              "    }\n",
              "\n",
              "    .colab-df-convert {\n",
              "      background-color: #E8F0FE;\n",
              "      border: none;\n",
              "      border-radius: 50%;\n",
              "      cursor: pointer;\n",
              "      display: none;\n",
              "      fill: #1967D2;\n",
              "      height: 32px;\n",
              "      padding: 0 0 0 0;\n",
              "      width: 32px;\n",
              "    }\n",
              "\n",
              "    .colab-df-convert:hover {\n",
              "      background-color: #E2EBFA;\n",
              "      box-shadow: 0px 1px 2px rgba(60, 64, 67, 0.3), 0px 1px 3px 1px rgba(60, 64, 67, 0.15);\n",
              "      fill: #174EA6;\n",
              "    }\n",
              "\n",
              "    [theme=dark] .colab-df-convert {\n",
              "      background-color: #3B4455;\n",
              "      fill: #D2E3FC;\n",
              "    }\n",
              "\n",
              "    [theme=dark] .colab-df-convert:hover {\n",
              "      background-color: #434B5C;\n",
              "      box-shadow: 0px 1px 3px 1px rgba(0, 0, 0, 0.15);\n",
              "      filter: drop-shadow(0px 1px 2px rgba(0, 0, 0, 0.3));\n",
              "      fill: #FFFFFF;\n",
              "    }\n",
              "  </style>\n",
              "\n",
              "      <script>\n",
              "        const buttonEl =\n",
              "          document.querySelector('#df-291edc10-c38c-4e3f-9449-adf37bf3d013 button.colab-df-convert');\n",
              "        buttonEl.style.display =\n",
              "          google.colab.kernel.accessAllowed ? 'block' : 'none';\n",
              "\n",
              "        async function convertToInteractive(key) {\n",
              "          const element = document.querySelector('#df-291edc10-c38c-4e3f-9449-adf37bf3d013');\n",
              "          const dataTable =\n",
              "            await google.colab.kernel.invokeFunction('convertToInteractive',\n",
              "                                                     [key], {});\n",
              "          if (!dataTable) return;\n",
              "\n",
              "          const docLinkHtml = 'Like what you see? Visit the ' +\n",
              "            '<a target=\"_blank\" href=https://colab.research.google.com/notebooks/data_table.ipynb>data table notebook</a>'\n",
              "            + ' to learn more about interactive tables.';\n",
              "          element.innerHTML = '';\n",
              "          dataTable['output_type'] = 'display_data';\n",
              "          await google.colab.output.renderOutput(dataTable, element);\n",
              "          const docLink = document.createElement('div');\n",
              "          docLink.innerHTML = docLinkHtml;\n",
              "          element.appendChild(docLink);\n",
              "        }\n",
              "      </script>\n",
              "    </div>\n",
              "  </div>\n",
              "  "
            ]
          },
          "metadata": {},
          "execution_count": 214
        }
      ],
      "source": [
        "eval_frame= pd.DataFrame()\n",
        "eval_frame['Model']= [\"KNN\", \"Logistic Regression\", \"Naive Bayes\", \"Random Forest\"]\n",
        "eval_frame['train_test_split']= accuracy_results1\n",
        "eval_frame"
      ]
    },
    {
      "cell_type": "markdown",
      "source": [
        "Kfold divides the dataset into k sample groups (folds) and prediction function is learned by the k-1 folds and remaining fold is used for testing and validation.\t"
      ],
      "metadata": {
        "id": "BMYnusss3G0v"
      }
    },
    {
      "cell_type": "code",
      "execution_count": null,
      "metadata": {
        "id": "uKwpmfl51CnG"
      },
      "outputs": [],
      "source": [
        "#kfold validation\n",
        "accuracy_results2= []\n",
        "for a in classifiers:\n",
        "  pipe = make_pipeline(StandardScaler(), a)\n",
        "  accuracy_results2.append(round(np.mean(cross_val_score(pipe, X, y, scoring= \"accuracy\", \n",
        "                                                         cv= KFold(), n_jobs= -1)*100),2))"
      ]
    },
    {
      "cell_type": "code",
      "execution_count": null,
      "metadata": {
        "id": "AMpHwgq41CnH",
        "colab": {
          "base_uri": "https://localhost:8080/",
          "height": 175
        },
        "outputId": "be878e53-fd51-4485-f003-ec2059954c04"
      },
      "outputs": [
        {
          "output_type": "execute_result",
          "data": {
            "text/plain": [
              "                 Model  train_test_split  kfold_5\n",
              "0                  KNN             87.60    85.61\n",
              "1  Logistic Regression             97.54    97.55\n",
              "2          Naive Bayes             94.36    93.63\n",
              "3        Random Forest             93.63    93.60"
            ],
            "text/html": [
              "\n",
              "  <div id=\"df-fadc09d5-bef4-42d1-a6a4-32564eaff11a\">\n",
              "    <div class=\"colab-df-container\">\n",
              "      <div>\n",
              "<style scoped>\n",
              "    .dataframe tbody tr th:only-of-type {\n",
              "        vertical-align: middle;\n",
              "    }\n",
              "\n",
              "    .dataframe tbody tr th {\n",
              "        vertical-align: top;\n",
              "    }\n",
              "\n",
              "    .dataframe thead th {\n",
              "        text-align: right;\n",
              "    }\n",
              "</style>\n",
              "<table border=\"1\" class=\"dataframe\">\n",
              "  <thead>\n",
              "    <tr style=\"text-align: right;\">\n",
              "      <th></th>\n",
              "      <th>Model</th>\n",
              "      <th>train_test_split</th>\n",
              "      <th>kfold_5</th>\n",
              "    </tr>\n",
              "  </thead>\n",
              "  <tbody>\n",
              "    <tr>\n",
              "      <th>0</th>\n",
              "      <td>KNN</td>\n",
              "      <td>87.60</td>\n",
              "      <td>85.61</td>\n",
              "    </tr>\n",
              "    <tr>\n",
              "      <th>1</th>\n",
              "      <td>Logistic Regression</td>\n",
              "      <td>97.54</td>\n",
              "      <td>97.55</td>\n",
              "    </tr>\n",
              "    <tr>\n",
              "      <th>2</th>\n",
              "      <td>Naive Bayes</td>\n",
              "      <td>94.36</td>\n",
              "      <td>93.63</td>\n",
              "    </tr>\n",
              "    <tr>\n",
              "      <th>3</th>\n",
              "      <td>Random Forest</td>\n",
              "      <td>93.63</td>\n",
              "      <td>93.60</td>\n",
              "    </tr>\n",
              "  </tbody>\n",
              "</table>\n",
              "</div>\n",
              "      <button class=\"colab-df-convert\" onclick=\"convertToInteractive('df-fadc09d5-bef4-42d1-a6a4-32564eaff11a')\"\n",
              "              title=\"Convert this dataframe to an interactive table.\"\n",
              "              style=\"display:none;\">\n",
              "        \n",
              "  <svg xmlns=\"http://www.w3.org/2000/svg\" height=\"24px\"viewBox=\"0 0 24 24\"\n",
              "       width=\"24px\">\n",
              "    <path d=\"M0 0h24v24H0V0z\" fill=\"none\"/>\n",
              "    <path d=\"M18.56 5.44l.94 2.06.94-2.06 2.06-.94-2.06-.94-.94-2.06-.94 2.06-2.06.94zm-11 1L8.5 8.5l.94-2.06 2.06-.94-2.06-.94L8.5 2.5l-.94 2.06-2.06.94zm10 10l.94 2.06.94-2.06 2.06-.94-2.06-.94-.94-2.06-.94 2.06-2.06.94z\"/><path d=\"M17.41 7.96l-1.37-1.37c-.4-.4-.92-.59-1.43-.59-.52 0-1.04.2-1.43.59L10.3 9.45l-7.72 7.72c-.78.78-.78 2.05 0 2.83L4 21.41c.39.39.9.59 1.41.59.51 0 1.02-.2 1.41-.59l7.78-7.78 2.81-2.81c.8-.78.8-2.07 0-2.86zM5.41 20L4 18.59l7.72-7.72 1.47 1.35L5.41 20z\"/>\n",
              "  </svg>\n",
              "      </button>\n",
              "      \n",
              "  <style>\n",
              "    .colab-df-container {\n",
              "      display:flex;\n",
              "      flex-wrap:wrap;\n",
              "      gap: 12px;\n",
              "    }\n",
              "\n",
              "    .colab-df-convert {\n",
              "      background-color: #E8F0FE;\n",
              "      border: none;\n",
              "      border-radius: 50%;\n",
              "      cursor: pointer;\n",
              "      display: none;\n",
              "      fill: #1967D2;\n",
              "      height: 32px;\n",
              "      padding: 0 0 0 0;\n",
              "      width: 32px;\n",
              "    }\n",
              "\n",
              "    .colab-df-convert:hover {\n",
              "      background-color: #E2EBFA;\n",
              "      box-shadow: 0px 1px 2px rgba(60, 64, 67, 0.3), 0px 1px 3px 1px rgba(60, 64, 67, 0.15);\n",
              "      fill: #174EA6;\n",
              "    }\n",
              "\n",
              "    [theme=dark] .colab-df-convert {\n",
              "      background-color: #3B4455;\n",
              "      fill: #D2E3FC;\n",
              "    }\n",
              "\n",
              "    [theme=dark] .colab-df-convert:hover {\n",
              "      background-color: #434B5C;\n",
              "      box-shadow: 0px 1px 3px 1px rgba(0, 0, 0, 0.15);\n",
              "      filter: drop-shadow(0px 1px 2px rgba(0, 0, 0, 0.3));\n",
              "      fill: #FFFFFF;\n",
              "    }\n",
              "  </style>\n",
              "\n",
              "      <script>\n",
              "        const buttonEl =\n",
              "          document.querySelector('#df-fadc09d5-bef4-42d1-a6a4-32564eaff11a button.colab-df-convert');\n",
              "        buttonEl.style.display =\n",
              "          google.colab.kernel.accessAllowed ? 'block' : 'none';\n",
              "\n",
              "        async function convertToInteractive(key) {\n",
              "          const element = document.querySelector('#df-fadc09d5-bef4-42d1-a6a4-32564eaff11a');\n",
              "          const dataTable =\n",
              "            await google.colab.kernel.invokeFunction('convertToInteractive',\n",
              "                                                     [key], {});\n",
              "          if (!dataTable) return;\n",
              "\n",
              "          const docLinkHtml = 'Like what you see? Visit the ' +\n",
              "            '<a target=\"_blank\" href=https://colab.research.google.com/notebooks/data_table.ipynb>data table notebook</a>'\n",
              "            + ' to learn more about interactive tables.';\n",
              "          element.innerHTML = '';\n",
              "          dataTable['output_type'] = 'display_data';\n",
              "          await google.colab.output.renderOutput(dataTable, element);\n",
              "          const docLink = document.createElement('div');\n",
              "          docLink.innerHTML = docLinkHtml;\n",
              "          element.appendChild(docLink);\n",
              "        }\n",
              "      </script>\n",
              "    </div>\n",
              "  </div>\n",
              "  "
            ]
          },
          "metadata": {},
          "execution_count": 216
        }
      ],
      "source": [
        "eval_frame['kfold_5']= accuracy_results2\n",
        "eval_frame"
      ]
    },
    {
      "cell_type": "markdown",
      "source": [
        "Stratified kfold using the same method as kfold with only difference of having approximately same percentege of target variable in each fold.\t"
      ],
      "metadata": {
        "id": "F4v9JVW-3RYw"
      }
    },
    {
      "cell_type": "code",
      "execution_count": null,
      "metadata": {
        "id": "gVWV6P2ABwoO",
        "colab": {
          "base_uri": "https://localhost:8080/",
          "height": 175
        },
        "outputId": "bb4b7ab1-c73a-4590-b6cf-782ffcc6ed5c"
      },
      "outputs": [
        {
          "output_type": "execute_result",
          "data": {
            "text/plain": [
              "                 Model  train_test_split  kfold_5  strafifiedkfold_5\n",
              "0                  KNN             87.60    85.61              85.14\n",
              "1  Logistic Regression             97.54    97.55              97.55\n",
              "2          Naive Bayes             94.36    93.63              93.26\n",
              "3        Random Forest             93.63    93.60              93.60"
            ],
            "text/html": [
              "\n",
              "  <div id=\"df-02b5038d-cc94-4723-a2f3-f80c8ed24163\">\n",
              "    <div class=\"colab-df-container\">\n",
              "      <div>\n",
              "<style scoped>\n",
              "    .dataframe tbody tr th:only-of-type {\n",
              "        vertical-align: middle;\n",
              "    }\n",
              "\n",
              "    .dataframe tbody tr th {\n",
              "        vertical-align: top;\n",
              "    }\n",
              "\n",
              "    .dataframe thead th {\n",
              "        text-align: right;\n",
              "    }\n",
              "</style>\n",
              "<table border=\"1\" class=\"dataframe\">\n",
              "  <thead>\n",
              "    <tr style=\"text-align: right;\">\n",
              "      <th></th>\n",
              "      <th>Model</th>\n",
              "      <th>train_test_split</th>\n",
              "      <th>kfold_5</th>\n",
              "      <th>strafifiedkfold_5</th>\n",
              "    </tr>\n",
              "  </thead>\n",
              "  <tbody>\n",
              "    <tr>\n",
              "      <th>0</th>\n",
              "      <td>KNN</td>\n",
              "      <td>87.60</td>\n",
              "      <td>85.61</td>\n",
              "      <td>85.14</td>\n",
              "    </tr>\n",
              "    <tr>\n",
              "      <th>1</th>\n",
              "      <td>Logistic Regression</td>\n",
              "      <td>97.54</td>\n",
              "      <td>97.55</td>\n",
              "      <td>97.55</td>\n",
              "    </tr>\n",
              "    <tr>\n",
              "      <th>2</th>\n",
              "      <td>Naive Bayes</td>\n",
              "      <td>94.36</td>\n",
              "      <td>93.63</td>\n",
              "      <td>93.26</td>\n",
              "    </tr>\n",
              "    <tr>\n",
              "      <th>3</th>\n",
              "      <td>Random Forest</td>\n",
              "      <td>93.63</td>\n",
              "      <td>93.60</td>\n",
              "      <td>93.60</td>\n",
              "    </tr>\n",
              "  </tbody>\n",
              "</table>\n",
              "</div>\n",
              "      <button class=\"colab-df-convert\" onclick=\"convertToInteractive('df-02b5038d-cc94-4723-a2f3-f80c8ed24163')\"\n",
              "              title=\"Convert this dataframe to an interactive table.\"\n",
              "              style=\"display:none;\">\n",
              "        \n",
              "  <svg xmlns=\"http://www.w3.org/2000/svg\" height=\"24px\"viewBox=\"0 0 24 24\"\n",
              "       width=\"24px\">\n",
              "    <path d=\"M0 0h24v24H0V0z\" fill=\"none\"/>\n",
              "    <path d=\"M18.56 5.44l.94 2.06.94-2.06 2.06-.94-2.06-.94-.94-2.06-.94 2.06-2.06.94zm-11 1L8.5 8.5l.94-2.06 2.06-.94-2.06-.94L8.5 2.5l-.94 2.06-2.06.94zm10 10l.94 2.06.94-2.06 2.06-.94-2.06-.94-.94-2.06-.94 2.06-2.06.94z\"/><path d=\"M17.41 7.96l-1.37-1.37c-.4-.4-.92-.59-1.43-.59-.52 0-1.04.2-1.43.59L10.3 9.45l-7.72 7.72c-.78.78-.78 2.05 0 2.83L4 21.41c.39.39.9.59 1.41.59.51 0 1.02-.2 1.41-.59l7.78-7.78 2.81-2.81c.8-.78.8-2.07 0-2.86zM5.41 20L4 18.59l7.72-7.72 1.47 1.35L5.41 20z\"/>\n",
              "  </svg>\n",
              "      </button>\n",
              "      \n",
              "  <style>\n",
              "    .colab-df-container {\n",
              "      display:flex;\n",
              "      flex-wrap:wrap;\n",
              "      gap: 12px;\n",
              "    }\n",
              "\n",
              "    .colab-df-convert {\n",
              "      background-color: #E8F0FE;\n",
              "      border: none;\n",
              "      border-radius: 50%;\n",
              "      cursor: pointer;\n",
              "      display: none;\n",
              "      fill: #1967D2;\n",
              "      height: 32px;\n",
              "      padding: 0 0 0 0;\n",
              "      width: 32px;\n",
              "    }\n",
              "\n",
              "    .colab-df-convert:hover {\n",
              "      background-color: #E2EBFA;\n",
              "      box-shadow: 0px 1px 2px rgba(60, 64, 67, 0.3), 0px 1px 3px 1px rgba(60, 64, 67, 0.15);\n",
              "      fill: #174EA6;\n",
              "    }\n",
              "\n",
              "    [theme=dark] .colab-df-convert {\n",
              "      background-color: #3B4455;\n",
              "      fill: #D2E3FC;\n",
              "    }\n",
              "\n",
              "    [theme=dark] .colab-df-convert:hover {\n",
              "      background-color: #434B5C;\n",
              "      box-shadow: 0px 1px 3px 1px rgba(0, 0, 0, 0.15);\n",
              "      filter: drop-shadow(0px 1px 2px rgba(0, 0, 0, 0.3));\n",
              "      fill: #FFFFFF;\n",
              "    }\n",
              "  </style>\n",
              "\n",
              "      <script>\n",
              "        const buttonEl =\n",
              "          document.querySelector('#df-02b5038d-cc94-4723-a2f3-f80c8ed24163 button.colab-df-convert');\n",
              "        buttonEl.style.display =\n",
              "          google.colab.kernel.accessAllowed ? 'block' : 'none';\n",
              "\n",
              "        async function convertToInteractive(key) {\n",
              "          const element = document.querySelector('#df-02b5038d-cc94-4723-a2f3-f80c8ed24163');\n",
              "          const dataTable =\n",
              "            await google.colab.kernel.invokeFunction('convertToInteractive',\n",
              "                                                     [key], {});\n",
              "          if (!dataTable) return;\n",
              "\n",
              "          const docLinkHtml = 'Like what you see? Visit the ' +\n",
              "            '<a target=\"_blank\" href=https://colab.research.google.com/notebooks/data_table.ipynb>data table notebook</a>'\n",
              "            + ' to learn more about interactive tables.';\n",
              "          element.innerHTML = '';\n",
              "          dataTable['output_type'] = 'display_data';\n",
              "          await google.colab.output.renderOutput(dataTable, element);\n",
              "          const docLink = document.createElement('div');\n",
              "          docLink.innerHTML = docLinkHtml;\n",
              "          element.appendChild(docLink);\n",
              "        }\n",
              "      </script>\n",
              "    </div>\n",
              "  </div>\n",
              "  "
            ]
          },
          "metadata": {},
          "execution_count": 217
        }
      ],
      "source": [
        "#StratifiedKFold validation\n",
        "accuracy_results3= []\n",
        "for a in classifiers:\n",
        "  pipe = make_pipeline(StandardScaler(), a)\n",
        "  accuracy_results3.append(round(np.mean(cross_val_score(pipe, X, y, scoring= \"accuracy\", \n",
        "                                                         cv= StratifiedKFold(), n_jobs= -1)*100),2))\n",
        "eval_frame['strafifiedkfold_5']= accuracy_results3\n",
        "eval_frame"
      ]
    },
    {
      "cell_type": "markdown",
      "source": [
        "Shuffle split model generates independent train test splits and uses train for fitting the model and test for validation for each split. "
      ],
      "metadata": {
        "id": "FO6EAQEH3THR"
      }
    },
    {
      "cell_type": "code",
      "execution_count": null,
      "metadata": {
        "id": "A5fX4u1nNOUf",
        "colab": {
          "base_uri": "https://localhost:8080/",
          "height": 175
        },
        "outputId": "7e0aea10-a7c5-4d97-a20a-40081c65fd38"
      },
      "outputs": [
        {
          "output_type": "execute_result",
          "data": {
            "text/plain": [
              "                 Model  train_test_split  kfold_5  strafifiedkfold_5  shuffle\n",
              "0                  KNN             87.60    85.61              85.14    87.29\n",
              "1  Logistic Regression             97.54    97.55              97.55    97.54\n",
              "2          Naive Bayes             94.36    93.63              93.26    94.10\n",
              "3        Random Forest             93.63    93.60              93.60    93.63"
            ],
            "text/html": [
              "\n",
              "  <div id=\"df-9d9e83c8-944f-4897-a1c9-30efad4c8d54\">\n",
              "    <div class=\"colab-df-container\">\n",
              "      <div>\n",
              "<style scoped>\n",
              "    .dataframe tbody tr th:only-of-type {\n",
              "        vertical-align: middle;\n",
              "    }\n",
              "\n",
              "    .dataframe tbody tr th {\n",
              "        vertical-align: top;\n",
              "    }\n",
              "\n",
              "    .dataframe thead th {\n",
              "        text-align: right;\n",
              "    }\n",
              "</style>\n",
              "<table border=\"1\" class=\"dataframe\">\n",
              "  <thead>\n",
              "    <tr style=\"text-align: right;\">\n",
              "      <th></th>\n",
              "      <th>Model</th>\n",
              "      <th>train_test_split</th>\n",
              "      <th>kfold_5</th>\n",
              "      <th>strafifiedkfold_5</th>\n",
              "      <th>shuffle</th>\n",
              "    </tr>\n",
              "  </thead>\n",
              "  <tbody>\n",
              "    <tr>\n",
              "      <th>0</th>\n",
              "      <td>KNN</td>\n",
              "      <td>87.60</td>\n",
              "      <td>85.61</td>\n",
              "      <td>85.14</td>\n",
              "      <td>87.29</td>\n",
              "    </tr>\n",
              "    <tr>\n",
              "      <th>1</th>\n",
              "      <td>Logistic Regression</td>\n",
              "      <td>97.54</td>\n",
              "      <td>97.55</td>\n",
              "      <td>97.55</td>\n",
              "      <td>97.54</td>\n",
              "    </tr>\n",
              "    <tr>\n",
              "      <th>2</th>\n",
              "      <td>Naive Bayes</td>\n",
              "      <td>94.36</td>\n",
              "      <td>93.63</td>\n",
              "      <td>93.26</td>\n",
              "      <td>94.10</td>\n",
              "    </tr>\n",
              "    <tr>\n",
              "      <th>3</th>\n",
              "      <td>Random Forest</td>\n",
              "      <td>93.63</td>\n",
              "      <td>93.60</td>\n",
              "      <td>93.60</td>\n",
              "      <td>93.63</td>\n",
              "    </tr>\n",
              "  </tbody>\n",
              "</table>\n",
              "</div>\n",
              "      <button class=\"colab-df-convert\" onclick=\"convertToInteractive('df-9d9e83c8-944f-4897-a1c9-30efad4c8d54')\"\n",
              "              title=\"Convert this dataframe to an interactive table.\"\n",
              "              style=\"display:none;\">\n",
              "        \n",
              "  <svg xmlns=\"http://www.w3.org/2000/svg\" height=\"24px\"viewBox=\"0 0 24 24\"\n",
              "       width=\"24px\">\n",
              "    <path d=\"M0 0h24v24H0V0z\" fill=\"none\"/>\n",
              "    <path d=\"M18.56 5.44l.94 2.06.94-2.06 2.06-.94-2.06-.94-.94-2.06-.94 2.06-2.06.94zm-11 1L8.5 8.5l.94-2.06 2.06-.94-2.06-.94L8.5 2.5l-.94 2.06-2.06.94zm10 10l.94 2.06.94-2.06 2.06-.94-2.06-.94-.94-2.06-.94 2.06-2.06.94z\"/><path d=\"M17.41 7.96l-1.37-1.37c-.4-.4-.92-.59-1.43-.59-.52 0-1.04.2-1.43.59L10.3 9.45l-7.72 7.72c-.78.78-.78 2.05 0 2.83L4 21.41c.39.39.9.59 1.41.59.51 0 1.02-.2 1.41-.59l7.78-7.78 2.81-2.81c.8-.78.8-2.07 0-2.86zM5.41 20L4 18.59l7.72-7.72 1.47 1.35L5.41 20z\"/>\n",
              "  </svg>\n",
              "      </button>\n",
              "      \n",
              "  <style>\n",
              "    .colab-df-container {\n",
              "      display:flex;\n",
              "      flex-wrap:wrap;\n",
              "      gap: 12px;\n",
              "    }\n",
              "\n",
              "    .colab-df-convert {\n",
              "      background-color: #E8F0FE;\n",
              "      border: none;\n",
              "      border-radius: 50%;\n",
              "      cursor: pointer;\n",
              "      display: none;\n",
              "      fill: #1967D2;\n",
              "      height: 32px;\n",
              "      padding: 0 0 0 0;\n",
              "      width: 32px;\n",
              "    }\n",
              "\n",
              "    .colab-df-convert:hover {\n",
              "      background-color: #E2EBFA;\n",
              "      box-shadow: 0px 1px 2px rgba(60, 64, 67, 0.3), 0px 1px 3px 1px rgba(60, 64, 67, 0.15);\n",
              "      fill: #174EA6;\n",
              "    }\n",
              "\n",
              "    [theme=dark] .colab-df-convert {\n",
              "      background-color: #3B4455;\n",
              "      fill: #D2E3FC;\n",
              "    }\n",
              "\n",
              "    [theme=dark] .colab-df-convert:hover {\n",
              "      background-color: #434B5C;\n",
              "      box-shadow: 0px 1px 3px 1px rgba(0, 0, 0, 0.15);\n",
              "      filter: drop-shadow(0px 1px 2px rgba(0, 0, 0, 0.3));\n",
              "      fill: #FFFFFF;\n",
              "    }\n",
              "  </style>\n",
              "\n",
              "      <script>\n",
              "        const buttonEl =\n",
              "          document.querySelector('#df-9d9e83c8-944f-4897-a1c9-30efad4c8d54 button.colab-df-convert');\n",
              "        buttonEl.style.display =\n",
              "          google.colab.kernel.accessAllowed ? 'block' : 'none';\n",
              "\n",
              "        async function convertToInteractive(key) {\n",
              "          const element = document.querySelector('#df-9d9e83c8-944f-4897-a1c9-30efad4c8d54');\n",
              "          const dataTable =\n",
              "            await google.colab.kernel.invokeFunction('convertToInteractive',\n",
              "                                                     [key], {});\n",
              "          if (!dataTable) return;\n",
              "\n",
              "          const docLinkHtml = 'Like what you see? Visit the ' +\n",
              "            '<a target=\"_blank\" href=https://colab.research.google.com/notebooks/data_table.ipynb>data table notebook</a>'\n",
              "            + ' to learn more about interactive tables.';\n",
              "          element.innerHTML = '';\n",
              "          dataTable['output_type'] = 'display_data';\n",
              "          await google.colab.output.renderOutput(dataTable, element);\n",
              "          const docLink = document.createElement('div');\n",
              "          docLink.innerHTML = docLinkHtml;\n",
              "          element.appendChild(docLink);\n",
              "        }\n",
              "      </script>\n",
              "    </div>\n",
              "  </div>\n",
              "  "
            ]
          },
          "metadata": {},
          "execution_count": 218
        }
      ],
      "source": [
        "#shuffle validation\n",
        "accuracy_results4= []\n",
        "for a in classifiers:\n",
        "  pipe = make_pipeline(StandardScaler(), a)\n",
        "  accuracy_results4.append(round(np.mean(cross_val_score(pipe, X, y, scoring= \"accuracy\", \n",
        "                                                         cv= ShuffleSplit(n_splits=5, test_size= 0.3), n_jobs= -1)*100),2))\n",
        "eval_frame['shuffle']= accuracy_results4\n",
        "eval_frame"
      ]
    },
    {
      "cell_type": "code",
      "source": [
        "#eval_frame.to_csv('numeric_classification_evaluate.csv', index=False)"
      ],
      "metadata": {
        "id": "WezLd4gY_lQ6"
      },
      "execution_count": null,
      "outputs": []
    },
    {
      "cell_type": "markdown",
      "metadata": {
        "id": "Ak3Ted4s1CnK"
      },
      "source": [
        "#### Encoding Categorical Attributes"
      ]
    },
    {
      "cell_type": "markdown",
      "source": [
        "I used two encoding methods for converting categorical attributes to numerical attributes. One hot encoding for attributes that has less than 8 unique values, and label encoding for attributes that has more than 8 unique values."
      ],
      "metadata": {
        "id": "xanahxKN2tXl"
      }
    },
    {
      "cell_type": "code",
      "execution_count": 55,
      "metadata": {
        "id": "vXd3ICtF1CnL",
        "colab": {
          "base_uri": "https://localhost:8080/"
        },
        "outputId": "975a3bd8-2950-4cda-9bea-1b497ba8837e"
      },
      "outputs": [
        {
          "output_type": "execute_result",
          "data": {
            "text/plain": [
              "Customer Segment       3\n",
              "Type                   4\n",
              "Delivery Status        4\n",
              "Shipping Mode          4\n",
              "Market                 5\n",
              "Order Status           9\n",
              "Department Name       11\n",
              "Order Region          23\n",
              "Category Name         50\n",
              "Product Name         118\n",
              "Order Country        164\n",
              "Customer City        563\n",
              "Order State         1089\n",
              "Customer Lname      1110\n",
              "Order City          3597\n",
              "dtype: int64"
            ]
          },
          "metadata": {},
          "execution_count": 55
        }
      ],
      "source": [
        "unique_categorical= df.select_dtypes(include=\"category\").nunique().sort_values()\n",
        "unique_categorical\n",
        "#unique_categorical.to_frame().reset_index().rename(columns={'index': 'Categorical Attribute', 0: 'Unique Values'}).to_csv('Unique Value Counts of Categorical Attributes.csv', index=False)"
      ]
    },
    {
      "cell_type": "markdown",
      "source": [
        "#####One Hot Encoding"
      ],
      "metadata": {
        "id": "oOVZS3s53SSA"
      }
    },
    {
      "cell_type": "markdown",
      "source": [
        "This method encodes categorical features as one-hot numeric array. Basicly, it creates a binary column for each category of the feature. "
      ],
      "metadata": {
        "id": "GVjGzsat2KOS"
      }
    },
    {
      "cell_type": "code",
      "execution_count": 56,
      "metadata": {
        "id": "kTh6Fa5auK4p",
        "colab": {
          "base_uri": "https://localhost:8080/",
          "height": 242
        },
        "outputId": "9610215e-0a50-4b01-a2ad-012e49d7f6a6"
      },
      "outputs": [
        {
          "output_type": "execute_result",
          "data": {
            "text/plain": [
              "   Customer Segment_Consumer  Customer Segment_Corporate  \\\n",
              "0                          1                           0   \n",
              "1                          1                           0   \n",
              "2                          1                           0   \n",
              "\n",
              "   Customer Segment_Home Office  Type_CASH  Type_DEBIT  Type_PAYMENT  \\\n",
              "0                             0          0           1             0   \n",
              "1                             0          0           0             0   \n",
              "2                             0          1           0             0   \n",
              "\n",
              "   Type_TRANSFER  Delivery Status_Advance shipping  \\\n",
              "0              0                                 1   \n",
              "1              1                                 0   \n",
              "2              0                                 0   \n",
              "\n",
              "   Delivery Status_Late delivery  Delivery Status_Shipping canceled  \\\n",
              "0                              0                                  0   \n",
              "1                              1                                  0   \n",
              "2                              0                                  0   \n",
              "\n",
              "   Delivery Status_Shipping on time  Shipping Mode_First Class  \\\n",
              "0                                 0                          0   \n",
              "1                                 0                          0   \n",
              "2                                 1                          0   \n",
              "\n",
              "   Shipping Mode_Same Day  Shipping Mode_Second Class  \\\n",
              "0                       0                           0   \n",
              "1                       0                           0   \n",
              "2                       0                           0   \n",
              "\n",
              "   Shipping Mode_Standard Class  Market_Africa  Market_Europe  Market_LATAM  \\\n",
              "0                             1              0              0             0   \n",
              "1                             1              0              0             0   \n",
              "2                             1              0              0             0   \n",
              "\n",
              "   Market_Pacific Asia  Market_USCA  \n",
              "0                    1            0  \n",
              "1                    1            0  \n",
              "2                    1            0  "
            ],
            "text/html": [
              "\n",
              "  <div id=\"df-9a45699b-16f1-41d8-b6a2-af61eb07c048\">\n",
              "    <div class=\"colab-df-container\">\n",
              "      <div>\n",
              "<style scoped>\n",
              "    .dataframe tbody tr th:only-of-type {\n",
              "        vertical-align: middle;\n",
              "    }\n",
              "\n",
              "    .dataframe tbody tr th {\n",
              "        vertical-align: top;\n",
              "    }\n",
              "\n",
              "    .dataframe thead th {\n",
              "        text-align: right;\n",
              "    }\n",
              "</style>\n",
              "<table border=\"1\" class=\"dataframe\">\n",
              "  <thead>\n",
              "    <tr style=\"text-align: right;\">\n",
              "      <th></th>\n",
              "      <th>Customer Segment_Consumer</th>\n",
              "      <th>Customer Segment_Corporate</th>\n",
              "      <th>Customer Segment_Home Office</th>\n",
              "      <th>Type_CASH</th>\n",
              "      <th>Type_DEBIT</th>\n",
              "      <th>Type_PAYMENT</th>\n",
              "      <th>Type_TRANSFER</th>\n",
              "      <th>Delivery Status_Advance shipping</th>\n",
              "      <th>Delivery Status_Late delivery</th>\n",
              "      <th>Delivery Status_Shipping canceled</th>\n",
              "      <th>Delivery Status_Shipping on time</th>\n",
              "      <th>Shipping Mode_First Class</th>\n",
              "      <th>Shipping Mode_Same Day</th>\n",
              "      <th>Shipping Mode_Second Class</th>\n",
              "      <th>Shipping Mode_Standard Class</th>\n",
              "      <th>Market_Africa</th>\n",
              "      <th>Market_Europe</th>\n",
              "      <th>Market_LATAM</th>\n",
              "      <th>Market_Pacific Asia</th>\n",
              "      <th>Market_USCA</th>\n",
              "    </tr>\n",
              "  </thead>\n",
              "  <tbody>\n",
              "    <tr>\n",
              "      <th>0</th>\n",
              "      <td>1</td>\n",
              "      <td>0</td>\n",
              "      <td>0</td>\n",
              "      <td>0</td>\n",
              "      <td>1</td>\n",
              "      <td>0</td>\n",
              "      <td>0</td>\n",
              "      <td>1</td>\n",
              "      <td>0</td>\n",
              "      <td>0</td>\n",
              "      <td>0</td>\n",
              "      <td>0</td>\n",
              "      <td>0</td>\n",
              "      <td>0</td>\n",
              "      <td>1</td>\n",
              "      <td>0</td>\n",
              "      <td>0</td>\n",
              "      <td>0</td>\n",
              "      <td>1</td>\n",
              "      <td>0</td>\n",
              "    </tr>\n",
              "    <tr>\n",
              "      <th>1</th>\n",
              "      <td>1</td>\n",
              "      <td>0</td>\n",
              "      <td>0</td>\n",
              "      <td>0</td>\n",
              "      <td>0</td>\n",
              "      <td>0</td>\n",
              "      <td>1</td>\n",
              "      <td>0</td>\n",
              "      <td>1</td>\n",
              "      <td>0</td>\n",
              "      <td>0</td>\n",
              "      <td>0</td>\n",
              "      <td>0</td>\n",
              "      <td>0</td>\n",
              "      <td>1</td>\n",
              "      <td>0</td>\n",
              "      <td>0</td>\n",
              "      <td>0</td>\n",
              "      <td>1</td>\n",
              "      <td>0</td>\n",
              "    </tr>\n",
              "    <tr>\n",
              "      <th>2</th>\n",
              "      <td>1</td>\n",
              "      <td>0</td>\n",
              "      <td>0</td>\n",
              "      <td>1</td>\n",
              "      <td>0</td>\n",
              "      <td>0</td>\n",
              "      <td>0</td>\n",
              "      <td>0</td>\n",
              "      <td>0</td>\n",
              "      <td>0</td>\n",
              "      <td>1</td>\n",
              "      <td>0</td>\n",
              "      <td>0</td>\n",
              "      <td>0</td>\n",
              "      <td>1</td>\n",
              "      <td>0</td>\n",
              "      <td>0</td>\n",
              "      <td>0</td>\n",
              "      <td>1</td>\n",
              "      <td>0</td>\n",
              "    </tr>\n",
              "  </tbody>\n",
              "</table>\n",
              "</div>\n",
              "      <button class=\"colab-df-convert\" onclick=\"convertToInteractive('df-9a45699b-16f1-41d8-b6a2-af61eb07c048')\"\n",
              "              title=\"Convert this dataframe to an interactive table.\"\n",
              "              style=\"display:none;\">\n",
              "        \n",
              "  <svg xmlns=\"http://www.w3.org/2000/svg\" height=\"24px\"viewBox=\"0 0 24 24\"\n",
              "       width=\"24px\">\n",
              "    <path d=\"M0 0h24v24H0V0z\" fill=\"none\"/>\n",
              "    <path d=\"M18.56 5.44l.94 2.06.94-2.06 2.06-.94-2.06-.94-.94-2.06-.94 2.06-2.06.94zm-11 1L8.5 8.5l.94-2.06 2.06-.94-2.06-.94L8.5 2.5l-.94 2.06-2.06.94zm10 10l.94 2.06.94-2.06 2.06-.94-2.06-.94-.94-2.06-.94 2.06-2.06.94z\"/><path d=\"M17.41 7.96l-1.37-1.37c-.4-.4-.92-.59-1.43-.59-.52 0-1.04.2-1.43.59L10.3 9.45l-7.72 7.72c-.78.78-.78 2.05 0 2.83L4 21.41c.39.39.9.59 1.41.59.51 0 1.02-.2 1.41-.59l7.78-7.78 2.81-2.81c.8-.78.8-2.07 0-2.86zM5.41 20L4 18.59l7.72-7.72 1.47 1.35L5.41 20z\"/>\n",
              "  </svg>\n",
              "      </button>\n",
              "      \n",
              "  <style>\n",
              "    .colab-df-container {\n",
              "      display:flex;\n",
              "      flex-wrap:wrap;\n",
              "      gap: 12px;\n",
              "    }\n",
              "\n",
              "    .colab-df-convert {\n",
              "      background-color: #E8F0FE;\n",
              "      border: none;\n",
              "      border-radius: 50%;\n",
              "      cursor: pointer;\n",
              "      display: none;\n",
              "      fill: #1967D2;\n",
              "      height: 32px;\n",
              "      padding: 0 0 0 0;\n",
              "      width: 32px;\n",
              "    }\n",
              "\n",
              "    .colab-df-convert:hover {\n",
              "      background-color: #E2EBFA;\n",
              "      box-shadow: 0px 1px 2px rgba(60, 64, 67, 0.3), 0px 1px 3px 1px rgba(60, 64, 67, 0.15);\n",
              "      fill: #174EA6;\n",
              "    }\n",
              "\n",
              "    [theme=dark] .colab-df-convert {\n",
              "      background-color: #3B4455;\n",
              "      fill: #D2E3FC;\n",
              "    }\n",
              "\n",
              "    [theme=dark] .colab-df-convert:hover {\n",
              "      background-color: #434B5C;\n",
              "      box-shadow: 0px 1px 3px 1px rgba(0, 0, 0, 0.15);\n",
              "      filter: drop-shadow(0px 1px 2px rgba(0, 0, 0, 0.3));\n",
              "      fill: #FFFFFF;\n",
              "    }\n",
              "  </style>\n",
              "\n",
              "      <script>\n",
              "        const buttonEl =\n",
              "          document.querySelector('#df-9a45699b-16f1-41d8-b6a2-af61eb07c048 button.colab-df-convert');\n",
              "        buttonEl.style.display =\n",
              "          google.colab.kernel.accessAllowed ? 'block' : 'none';\n",
              "\n",
              "        async function convertToInteractive(key) {\n",
              "          const element = document.querySelector('#df-9a45699b-16f1-41d8-b6a2-af61eb07c048');\n",
              "          const dataTable =\n",
              "            await google.colab.kernel.invokeFunction('convertToInteractive',\n",
              "                                                     [key], {});\n",
              "          if (!dataTable) return;\n",
              "\n",
              "          const docLinkHtml = 'Like what you see? Visit the ' +\n",
              "            '<a target=\"_blank\" href=https://colab.research.google.com/notebooks/data_table.ipynb>data table notebook</a>'\n",
              "            + ' to learn more about interactive tables.';\n",
              "          element.innerHTML = '';\n",
              "          dataTable['output_type'] = 'display_data';\n",
              "          await google.colab.output.renderOutput(dataTable, element);\n",
              "          const docLink = document.createElement('div');\n",
              "          docLink.innerHTML = docLinkHtml;\n",
              "          element.appendChild(docLink);\n",
              "        }\n",
              "      </script>\n",
              "    </div>\n",
              "  </div>\n",
              "  "
            ]
          },
          "metadata": {},
          "execution_count": 56
        }
      ],
      "source": [
        "dummydf= pd.get_dummies(df[list(unique_categorical.to_dict().keys())[:5]])\n",
        "dummydf.head(3)"
      ]
    },
    {
      "cell_type": "code",
      "execution_count": 57,
      "metadata": {
        "id": "pwREKj9v1CnM",
        "colab": {
          "base_uri": "https://localhost:8080/"
        },
        "outputId": "0eb92f44-f4dc-46e8-fd6d-41c9dda4adf0"
      },
      "outputs": [
        {
          "output_type": "execute_result",
          "data": {
            "text/plain": [
              "(180519, 20)"
            ]
          },
          "metadata": {},
          "execution_count": 57
        }
      ],
      "source": [
        "dummydf.shape"
      ]
    },
    {
      "cell_type": "code",
      "execution_count": 58,
      "metadata": {
        "id": "Fj8R9MnQ1CnM"
      },
      "outputs": [],
      "source": [
        "df1= pd.concat([numdf, dummydf], axis =1)"
      ]
    },
    {
      "cell_type": "markdown",
      "metadata": {
        "id": "LH2slePn1CnO"
      },
      "source": [
        "##### Label Encoding"
      ]
    },
    {
      "cell_type": "markdown",
      "source": [
        "Label encoder encodes the target feature between 0 and number-of-classes minus 1. "
      ],
      "metadata": {
        "id": "2m8YFuuW2CD9"
      }
    },
    {
      "cell_type": "code",
      "execution_count": 59,
      "metadata": {
        "id": "DRwJ7eqXNWWG"
      },
      "outputs": [],
      "source": [
        "le=LabelEncoder()\n",
        "def Labelencoder_feature(x):\n",
        "    le=LabelEncoder()\n",
        "    x=le.fit_transform(x.astype(str))\n",
        "    return x"
      ]
    },
    {
      "cell_type": "code",
      "execution_count": 60,
      "metadata": {
        "id": "NL2pRfERNXyv"
      },
      "outputs": [],
      "source": [
        "label= list(unique_categorical.to_dict().keys())[5:]\n",
        "labeldf=df[label].apply(Labelencoder_feature)"
      ]
    },
    {
      "cell_type": "code",
      "execution_count": 61,
      "metadata": {
        "id": "gxNOG7MBNook",
        "colab": {
          "base_uri": "https://localhost:8080/",
          "height": 205
        },
        "outputId": "0333a08a-795b-48f1-c8d5-25a909a444d9"
      },
      "outputs": [
        {
          "output_type": "execute_result",
          "data": {
            "text/plain": [
              "   Order Status  Department Name  Order Region  Category Name  Product Name  \\\n",
              "0             2                4            15             40            78   \n",
              "1             5                4            13             40            78   \n",
              "2             1                4            13             40            78   \n",
              "\n",
              "   Order Country  Customer City  Order State  Customer Lname  Order City  \n",
              "0             70             66          475             483         331  \n",
              "1             69             66          841             616         391  \n",
              "2             69            452          841             627         391  "
            ],
            "text/html": [
              "\n",
              "  <div id=\"df-2e719259-359a-4b3b-b847-041aa6b97954\">\n",
              "    <div class=\"colab-df-container\">\n",
              "      <div>\n",
              "<style scoped>\n",
              "    .dataframe tbody tr th:only-of-type {\n",
              "        vertical-align: middle;\n",
              "    }\n",
              "\n",
              "    .dataframe tbody tr th {\n",
              "        vertical-align: top;\n",
              "    }\n",
              "\n",
              "    .dataframe thead th {\n",
              "        text-align: right;\n",
              "    }\n",
              "</style>\n",
              "<table border=\"1\" class=\"dataframe\">\n",
              "  <thead>\n",
              "    <tr style=\"text-align: right;\">\n",
              "      <th></th>\n",
              "      <th>Order Status</th>\n",
              "      <th>Department Name</th>\n",
              "      <th>Order Region</th>\n",
              "      <th>Category Name</th>\n",
              "      <th>Product Name</th>\n",
              "      <th>Order Country</th>\n",
              "      <th>Customer City</th>\n",
              "      <th>Order State</th>\n",
              "      <th>Customer Lname</th>\n",
              "      <th>Order City</th>\n",
              "    </tr>\n",
              "  </thead>\n",
              "  <tbody>\n",
              "    <tr>\n",
              "      <th>0</th>\n",
              "      <td>2</td>\n",
              "      <td>4</td>\n",
              "      <td>15</td>\n",
              "      <td>40</td>\n",
              "      <td>78</td>\n",
              "      <td>70</td>\n",
              "      <td>66</td>\n",
              "      <td>475</td>\n",
              "      <td>483</td>\n",
              "      <td>331</td>\n",
              "    </tr>\n",
              "    <tr>\n",
              "      <th>1</th>\n",
              "      <td>5</td>\n",
              "      <td>4</td>\n",
              "      <td>13</td>\n",
              "      <td>40</td>\n",
              "      <td>78</td>\n",
              "      <td>69</td>\n",
              "      <td>66</td>\n",
              "      <td>841</td>\n",
              "      <td>616</td>\n",
              "      <td>391</td>\n",
              "    </tr>\n",
              "    <tr>\n",
              "      <th>2</th>\n",
              "      <td>1</td>\n",
              "      <td>4</td>\n",
              "      <td>13</td>\n",
              "      <td>40</td>\n",
              "      <td>78</td>\n",
              "      <td>69</td>\n",
              "      <td>452</td>\n",
              "      <td>841</td>\n",
              "      <td>627</td>\n",
              "      <td>391</td>\n",
              "    </tr>\n",
              "  </tbody>\n",
              "</table>\n",
              "</div>\n",
              "      <button class=\"colab-df-convert\" onclick=\"convertToInteractive('df-2e719259-359a-4b3b-b847-041aa6b97954')\"\n",
              "              title=\"Convert this dataframe to an interactive table.\"\n",
              "              style=\"display:none;\">\n",
              "        \n",
              "  <svg xmlns=\"http://www.w3.org/2000/svg\" height=\"24px\"viewBox=\"0 0 24 24\"\n",
              "       width=\"24px\">\n",
              "    <path d=\"M0 0h24v24H0V0z\" fill=\"none\"/>\n",
              "    <path d=\"M18.56 5.44l.94 2.06.94-2.06 2.06-.94-2.06-.94-.94-2.06-.94 2.06-2.06.94zm-11 1L8.5 8.5l.94-2.06 2.06-.94-2.06-.94L8.5 2.5l-.94 2.06-2.06.94zm10 10l.94 2.06.94-2.06 2.06-.94-2.06-.94-.94-2.06-.94 2.06-2.06.94z\"/><path d=\"M17.41 7.96l-1.37-1.37c-.4-.4-.92-.59-1.43-.59-.52 0-1.04.2-1.43.59L10.3 9.45l-7.72 7.72c-.78.78-.78 2.05 0 2.83L4 21.41c.39.39.9.59 1.41.59.51 0 1.02-.2 1.41-.59l7.78-7.78 2.81-2.81c.8-.78.8-2.07 0-2.86zM5.41 20L4 18.59l7.72-7.72 1.47 1.35L5.41 20z\"/>\n",
              "  </svg>\n",
              "      </button>\n",
              "      \n",
              "  <style>\n",
              "    .colab-df-container {\n",
              "      display:flex;\n",
              "      flex-wrap:wrap;\n",
              "      gap: 12px;\n",
              "    }\n",
              "\n",
              "    .colab-df-convert {\n",
              "      background-color: #E8F0FE;\n",
              "      border: none;\n",
              "      border-radius: 50%;\n",
              "      cursor: pointer;\n",
              "      display: none;\n",
              "      fill: #1967D2;\n",
              "      height: 32px;\n",
              "      padding: 0 0 0 0;\n",
              "      width: 32px;\n",
              "    }\n",
              "\n",
              "    .colab-df-convert:hover {\n",
              "      background-color: #E2EBFA;\n",
              "      box-shadow: 0px 1px 2px rgba(60, 64, 67, 0.3), 0px 1px 3px 1px rgba(60, 64, 67, 0.15);\n",
              "      fill: #174EA6;\n",
              "    }\n",
              "\n",
              "    [theme=dark] .colab-df-convert {\n",
              "      background-color: #3B4455;\n",
              "      fill: #D2E3FC;\n",
              "    }\n",
              "\n",
              "    [theme=dark] .colab-df-convert:hover {\n",
              "      background-color: #434B5C;\n",
              "      box-shadow: 0px 1px 3px 1px rgba(0, 0, 0, 0.15);\n",
              "      filter: drop-shadow(0px 1px 2px rgba(0, 0, 0, 0.3));\n",
              "      fill: #FFFFFF;\n",
              "    }\n",
              "  </style>\n",
              "\n",
              "      <script>\n",
              "        const buttonEl =\n",
              "          document.querySelector('#df-2e719259-359a-4b3b-b847-041aa6b97954 button.colab-df-convert');\n",
              "        buttonEl.style.display =\n",
              "          google.colab.kernel.accessAllowed ? 'block' : 'none';\n",
              "\n",
              "        async function convertToInteractive(key) {\n",
              "          const element = document.querySelector('#df-2e719259-359a-4b3b-b847-041aa6b97954');\n",
              "          const dataTable =\n",
              "            await google.colab.kernel.invokeFunction('convertToInteractive',\n",
              "                                                     [key], {});\n",
              "          if (!dataTable) return;\n",
              "\n",
              "          const docLinkHtml = 'Like what you see? Visit the ' +\n",
              "            '<a target=\"_blank\" href=https://colab.research.google.com/notebooks/data_table.ipynb>data table notebook</a>'\n",
              "            + ' to learn more about interactive tables.';\n",
              "          element.innerHTML = '';\n",
              "          dataTable['output_type'] = 'display_data';\n",
              "          await google.colab.output.renderOutput(dataTable, element);\n",
              "          const docLink = document.createElement('div');\n",
              "          docLink.innerHTML = docLinkHtml;\n",
              "          element.appendChild(docLink);\n",
              "        }\n",
              "      </script>\n",
              "    </div>\n",
              "  </div>\n",
              "  "
            ]
          },
          "metadata": {},
          "execution_count": 61
        }
      ],
      "source": [
        "labeldf.head(3)"
      ]
    },
    {
      "cell_type": "code",
      "execution_count": 62,
      "metadata": {
        "id": "8EIs7IMxOSt0"
      },
      "outputs": [],
      "source": [
        "df2= pd.concat([df1, labeldf], axis =1)"
      ]
    },
    {
      "cell_type": "code",
      "source": [
        "#removing highly correlated features in the final dataset \n",
        "upper_corr_mat1 = df2.corr().where(np.triu(np.ones(df2.corr().shape), k=1).astype(bool))\n",
        "unique_corr_pairs1 = upper_corr_mat1.unstack().dropna()\n",
        "unique_corr_pairs1.sort_values(ascending= False).head(10)"
      ],
      "metadata": {
        "colab": {
          "base_uri": "https://localhost:8080/"
        },
        "id": "wnaqrgKy0wlO",
        "outputId": "36f8951a-8237-4fd5-f158-417d13dd0792"
      },
      "execution_count": 63,
      "outputs": [
        {
          "output_type": "execute_result",
          "data": {
            "text/plain": [
              "Delivery Status_Late delivery  Late_delivery_risk               1.000000\n",
              "order_year                     ship_year                        0.994073\n",
              "order_month                    ship_month                       0.952179\n",
              "Shipping Mode_Standard Class   Days for shipment (scheduled)    0.945696\n",
              "ship_year                      Order Id                         0.942353\n",
              "order_year                     Order Id                         0.941952\n",
              "order_hour                     ship_hour                        0.918932\n",
              "Order Profit Per Order         Order Item Profit Ratio          0.823689\n",
              "Product Price                  Order Item Total                 0.781781\n",
              "Latitude                       Customer Zipcode                 0.584550\n",
              "dtype: float64"
            ]
          },
          "metadata": {},
          "execution_count": 63
        }
      ]
    },
    {
      "cell_type": "code",
      "source": [
        "#unique_corr_pairs1.sort_values(ascending= False).head(10).to_frame().reset_index().rename(columns={'level_0': 'Attribute1', 'level_1': 'Attribute2' , 0: 'Correlation'}).to_csv('High Correlation Encoded.csv', index=False)"
      ],
      "metadata": {
        "id": "44cIjcDTo676"
      },
      "execution_count": 64,
      "outputs": []
    },
    {
      "cell_type": "code",
      "source": [
        "cortable1= unique_corr_pairs1.sort_values(ascending= False).reset_index()\n",
        "drop_corr1= cortable1[cortable1.iloc[:,2] > 0.85][\"level_0\"].values.tolist()\n",
        "drop_corr1"
      ],
      "metadata": {
        "colab": {
          "base_uri": "https://localhost:8080/"
        },
        "id": "Y-8KblI_1ET-",
        "outputId": "d6159ce4-d57b-4262-fa5c-4e9cc2c3e2d9"
      },
      "execution_count": null,
      "outputs": [
        {
          "output_type": "execute_result",
          "data": {
            "text/plain": [
              "['Delivery Status_Late delivery',\n",
              " 'order_year',\n",
              " 'order_month',\n",
              " 'Shipping Mode_Standard Class',\n",
              " 'ship_year',\n",
              " 'order_year',\n",
              " 'order_hour']"
            ]
          },
          "metadata": {},
          "execution_count": 229
        }
      ]
    },
    {
      "cell_type": "code",
      "source": [
        "df2.drop(drop_corr1, axis=1, inplace=True)"
      ],
      "metadata": {
        "id": "KzSDqkk41Qjc"
      },
      "execution_count": null,
      "outputs": []
    },
    {
      "cell_type": "code",
      "execution_count": null,
      "metadata": {
        "id": "9Xqm4YHjOhKV",
        "colab": {
          "base_uri": "https://localhost:8080/"
        },
        "outputId": "e81a80e4-d957-4b29-fa59-9c45b49b3d22"
      },
      "outputs": [
        {
          "output_type": "execute_result",
          "data": {
            "text/plain": [
              "(180519, 46)"
            ]
          },
          "metadata": {},
          "execution_count": 231
        }
      ],
      "source": [
        "df2.shape"
      ]
    },
    {
      "cell_type": "markdown",
      "source": [
        "####Machine Learning Models with Encoded Dataset"
      ],
      "metadata": {
        "id": "0SxMoAMD3XVx"
      }
    },
    {
      "cell_type": "markdown",
      "metadata": {
        "id": "GSwV4i0X1CnR"
      },
      "source": [
        "##### Regression Models with Encoded Dataset"
      ]
    },
    {
      "cell_type": "code",
      "execution_count": null,
      "metadata": {
        "id": "8cpkbuOCPfwz"
      },
      "outputs": [],
      "source": [
        "X= df2.drop([\"Order Profit Per Order\"], axis= 1)\n",
        "y= df2[\"Order Profit Per Order\"]"
      ]
    },
    {
      "cell_type": "code",
      "execution_count": null,
      "metadata": {
        "id": "KDTrrh1hPmDm"
      },
      "outputs": [],
      "source": [
        "X_train, X_test, y_train, y_test = train_test_split(X, y, test_size = 0.25, random_state = 0)"
      ]
    },
    {
      "cell_type": "code",
      "execution_count": null,
      "metadata": {
        "id": "tqWYvClJPuMK"
      },
      "outputs": [],
      "source": [
        "sc = StandardScaler()\n",
        "X_train = sc.fit_transform(X_train)\n",
        "X_test = sc.transform(X_test)"
      ]
    },
    {
      "cell_type": "code",
      "execution_count": null,
      "metadata": {
        "id": "frX0gSS0O6Es"
      },
      "outputs": [],
      "source": [
        "regressors= []\n",
        "regressors.append(LinearRegression())\n",
        "regressors.append(DecisionTreeRegressor(max_depth=5, random_state=5))"
      ]
    },
    {
      "cell_type": "code",
      "execution_count": null,
      "metadata": {
        "id": "82W2sBQrPVpm"
      },
      "outputs": [],
      "source": [
        "r2_results= []\n",
        "for a in regressors:\n",
        "  r2_results.append(round(r2_score(y_test, a.fit(X_train, y_train).predict(X_test))*100,2))#y_pred))"
      ]
    },
    {
      "cell_type": "code",
      "execution_count": null,
      "metadata": {
        "id": "ZcOrhVdXP76c",
        "colab": {
          "base_uri": "https://localhost:8080/",
          "height": 112
        },
        "outputId": "7102829c-91fd-46fc-eda7-637e9164a9c9"
      },
      "outputs": [
        {
          "output_type": "execute_result",
          "data": {
            "text/plain": [
              "                     Model  train_test_split\n",
              "0        Linear Regression             69.21\n",
              "1  Decision Tree Regressor             94.75"
            ],
            "text/html": [
              "\n",
              "  <div id=\"df-42e4e0b4-7195-44c5-af9a-fb343952e59f\">\n",
              "    <div class=\"colab-df-container\">\n",
              "      <div>\n",
              "<style scoped>\n",
              "    .dataframe tbody tr th:only-of-type {\n",
              "        vertical-align: middle;\n",
              "    }\n",
              "\n",
              "    .dataframe tbody tr th {\n",
              "        vertical-align: top;\n",
              "    }\n",
              "\n",
              "    .dataframe thead th {\n",
              "        text-align: right;\n",
              "    }\n",
              "</style>\n",
              "<table border=\"1\" class=\"dataframe\">\n",
              "  <thead>\n",
              "    <tr style=\"text-align: right;\">\n",
              "      <th></th>\n",
              "      <th>Model</th>\n",
              "      <th>train_test_split</th>\n",
              "    </tr>\n",
              "  </thead>\n",
              "  <tbody>\n",
              "    <tr>\n",
              "      <th>0</th>\n",
              "      <td>Linear Regression</td>\n",
              "      <td>69.21</td>\n",
              "    </tr>\n",
              "    <tr>\n",
              "      <th>1</th>\n",
              "      <td>Decision Tree Regressor</td>\n",
              "      <td>94.75</td>\n",
              "    </tr>\n",
              "  </tbody>\n",
              "</table>\n",
              "</div>\n",
              "      <button class=\"colab-df-convert\" onclick=\"convertToInteractive('df-42e4e0b4-7195-44c5-af9a-fb343952e59f')\"\n",
              "              title=\"Convert this dataframe to an interactive table.\"\n",
              "              style=\"display:none;\">\n",
              "        \n",
              "  <svg xmlns=\"http://www.w3.org/2000/svg\" height=\"24px\"viewBox=\"0 0 24 24\"\n",
              "       width=\"24px\">\n",
              "    <path d=\"M0 0h24v24H0V0z\" fill=\"none\"/>\n",
              "    <path d=\"M18.56 5.44l.94 2.06.94-2.06 2.06-.94-2.06-.94-.94-2.06-.94 2.06-2.06.94zm-11 1L8.5 8.5l.94-2.06 2.06-.94-2.06-.94L8.5 2.5l-.94 2.06-2.06.94zm10 10l.94 2.06.94-2.06 2.06-.94-2.06-.94-.94-2.06-.94 2.06-2.06.94z\"/><path d=\"M17.41 7.96l-1.37-1.37c-.4-.4-.92-.59-1.43-.59-.52 0-1.04.2-1.43.59L10.3 9.45l-7.72 7.72c-.78.78-.78 2.05 0 2.83L4 21.41c.39.39.9.59 1.41.59.51 0 1.02-.2 1.41-.59l7.78-7.78 2.81-2.81c.8-.78.8-2.07 0-2.86zM5.41 20L4 18.59l7.72-7.72 1.47 1.35L5.41 20z\"/>\n",
              "  </svg>\n",
              "      </button>\n",
              "      \n",
              "  <style>\n",
              "    .colab-df-container {\n",
              "      display:flex;\n",
              "      flex-wrap:wrap;\n",
              "      gap: 12px;\n",
              "    }\n",
              "\n",
              "    .colab-df-convert {\n",
              "      background-color: #E8F0FE;\n",
              "      border: none;\n",
              "      border-radius: 50%;\n",
              "      cursor: pointer;\n",
              "      display: none;\n",
              "      fill: #1967D2;\n",
              "      height: 32px;\n",
              "      padding: 0 0 0 0;\n",
              "      width: 32px;\n",
              "    }\n",
              "\n",
              "    .colab-df-convert:hover {\n",
              "      background-color: #E2EBFA;\n",
              "      box-shadow: 0px 1px 2px rgba(60, 64, 67, 0.3), 0px 1px 3px 1px rgba(60, 64, 67, 0.15);\n",
              "      fill: #174EA6;\n",
              "    }\n",
              "\n",
              "    [theme=dark] .colab-df-convert {\n",
              "      background-color: #3B4455;\n",
              "      fill: #D2E3FC;\n",
              "    }\n",
              "\n",
              "    [theme=dark] .colab-df-convert:hover {\n",
              "      background-color: #434B5C;\n",
              "      box-shadow: 0px 1px 3px 1px rgba(0, 0, 0, 0.15);\n",
              "      filter: drop-shadow(0px 1px 2px rgba(0, 0, 0, 0.3));\n",
              "      fill: #FFFFFF;\n",
              "    }\n",
              "  </style>\n",
              "\n",
              "      <script>\n",
              "        const buttonEl =\n",
              "          document.querySelector('#df-42e4e0b4-7195-44c5-af9a-fb343952e59f button.colab-df-convert');\n",
              "        buttonEl.style.display =\n",
              "          google.colab.kernel.accessAllowed ? 'block' : 'none';\n",
              "\n",
              "        async function convertToInteractive(key) {\n",
              "          const element = document.querySelector('#df-42e4e0b4-7195-44c5-af9a-fb343952e59f');\n",
              "          const dataTable =\n",
              "            await google.colab.kernel.invokeFunction('convertToInteractive',\n",
              "                                                     [key], {});\n",
              "          if (!dataTable) return;\n",
              "\n",
              "          const docLinkHtml = 'Like what you see? Visit the ' +\n",
              "            '<a target=\"_blank\" href=https://colab.research.google.com/notebooks/data_table.ipynb>data table notebook</a>'\n",
              "            + ' to learn more about interactive tables.';\n",
              "          element.innerHTML = '';\n",
              "          dataTable['output_type'] = 'display_data';\n",
              "          await google.colab.output.renderOutput(dataTable, element);\n",
              "          const docLink = document.createElement('div');\n",
              "          docLink.innerHTML = docLinkHtml;\n",
              "          element.appendChild(docLink);\n",
              "        }\n",
              "      </script>\n",
              "    </div>\n",
              "  </div>\n",
              "  "
            ]
          },
          "metadata": {},
          "execution_count": 237
        }
      ],
      "source": [
        "eval_frame1= pd.DataFrame()\n",
        "eval_frame1['Model']= [\"Linear Regression\", \"Decision Tree Regressor\"]\n",
        "eval_frame1['train_test_split']= r2_results\n",
        "eval_frame1"
      ]
    },
    {
      "cell_type": "code",
      "source": [
        "#eval_frame1.to_csv('encoded_regression_evaluate.csv', index=False)"
      ],
      "metadata": {
        "id": "bttaAcUPI_nN"
      },
      "execution_count": null,
      "outputs": []
    },
    {
      "cell_type": "markdown",
      "metadata": {
        "id": "cyrtCL-KQtEe"
      },
      "source": [
        "##### Classification Models with Encoded Dataset"
      ]
    },
    {
      "cell_type": "code",
      "execution_count": null,
      "metadata": {
        "id": "I8gHYxl7Qo6x"
      },
      "outputs": [],
      "source": [
        "X= df2.drop([\"Late_delivery_risk\"], axis= 1)\n",
        "X = X.loc[:, ~X.columns.str.startswith('Delivery')]\n",
        "y= df2[\"Late_delivery_risk\"]"
      ]
    },
    {
      "cell_type": "code",
      "execution_count": null,
      "metadata": {
        "id": "gMxeuHSHRH_y"
      },
      "outputs": [],
      "source": [
        "X_train, X_test, y_train, y_test = train_test_split(X, y, test_size = 0.25, random_state = 42)\n",
        "sc = StandardScaler()\n",
        "X_train = sc.fit_transform(X_train)\n",
        "X_test = sc.transform(X_test)"
      ]
    },
    {
      "cell_type": "code",
      "execution_count": null,
      "metadata": {
        "id": "v_RCi5dmRNdf",
        "colab": {
          "base_uri": "https://localhost:8080/",
          "height": 175
        },
        "outputId": "19d9a932-0ebd-46ea-8029-dcd7a7acbe41"
      },
      "outputs": [
        {
          "output_type": "execute_result",
          "data": {
            "text/plain": [
              "                 Model  train_test_split\n",
              "0                  KNN             87.21\n",
              "1  Logistic Regression             97.50\n",
              "2          Naive Bayes             79.30\n",
              "3        Random Forest             95.15"
            ],
            "text/html": [
              "\n",
              "  <div id=\"df-4fab078f-c6fa-49db-8800-c491d0662f82\">\n",
              "    <div class=\"colab-df-container\">\n",
              "      <div>\n",
              "<style scoped>\n",
              "    .dataframe tbody tr th:only-of-type {\n",
              "        vertical-align: middle;\n",
              "    }\n",
              "\n",
              "    .dataframe tbody tr th {\n",
              "        vertical-align: top;\n",
              "    }\n",
              "\n",
              "    .dataframe thead th {\n",
              "        text-align: right;\n",
              "    }\n",
              "</style>\n",
              "<table border=\"1\" class=\"dataframe\">\n",
              "  <thead>\n",
              "    <tr style=\"text-align: right;\">\n",
              "      <th></th>\n",
              "      <th>Model</th>\n",
              "      <th>train_test_split</th>\n",
              "    </tr>\n",
              "  </thead>\n",
              "  <tbody>\n",
              "    <tr>\n",
              "      <th>0</th>\n",
              "      <td>KNN</td>\n",
              "      <td>87.21</td>\n",
              "    </tr>\n",
              "    <tr>\n",
              "      <th>1</th>\n",
              "      <td>Logistic Regression</td>\n",
              "      <td>97.50</td>\n",
              "    </tr>\n",
              "    <tr>\n",
              "      <th>2</th>\n",
              "      <td>Naive Bayes</td>\n",
              "      <td>79.30</td>\n",
              "    </tr>\n",
              "    <tr>\n",
              "      <th>3</th>\n",
              "      <td>Random Forest</td>\n",
              "      <td>95.15</td>\n",
              "    </tr>\n",
              "  </tbody>\n",
              "</table>\n",
              "</div>\n",
              "      <button class=\"colab-df-convert\" onclick=\"convertToInteractive('df-4fab078f-c6fa-49db-8800-c491d0662f82')\"\n",
              "              title=\"Convert this dataframe to an interactive table.\"\n",
              "              style=\"display:none;\">\n",
              "        \n",
              "  <svg xmlns=\"http://www.w3.org/2000/svg\" height=\"24px\"viewBox=\"0 0 24 24\"\n",
              "       width=\"24px\">\n",
              "    <path d=\"M0 0h24v24H0V0z\" fill=\"none\"/>\n",
              "    <path d=\"M18.56 5.44l.94 2.06.94-2.06 2.06-.94-2.06-.94-.94-2.06-.94 2.06-2.06.94zm-11 1L8.5 8.5l.94-2.06 2.06-.94-2.06-.94L8.5 2.5l-.94 2.06-2.06.94zm10 10l.94 2.06.94-2.06 2.06-.94-2.06-.94-.94-2.06-.94 2.06-2.06.94z\"/><path d=\"M17.41 7.96l-1.37-1.37c-.4-.4-.92-.59-1.43-.59-.52 0-1.04.2-1.43.59L10.3 9.45l-7.72 7.72c-.78.78-.78 2.05 0 2.83L4 21.41c.39.39.9.59 1.41.59.51 0 1.02-.2 1.41-.59l7.78-7.78 2.81-2.81c.8-.78.8-2.07 0-2.86zM5.41 20L4 18.59l7.72-7.72 1.47 1.35L5.41 20z\"/>\n",
              "  </svg>\n",
              "      </button>\n",
              "      \n",
              "  <style>\n",
              "    .colab-df-container {\n",
              "      display:flex;\n",
              "      flex-wrap:wrap;\n",
              "      gap: 12px;\n",
              "    }\n",
              "\n",
              "    .colab-df-convert {\n",
              "      background-color: #E8F0FE;\n",
              "      border: none;\n",
              "      border-radius: 50%;\n",
              "      cursor: pointer;\n",
              "      display: none;\n",
              "      fill: #1967D2;\n",
              "      height: 32px;\n",
              "      padding: 0 0 0 0;\n",
              "      width: 32px;\n",
              "    }\n",
              "\n",
              "    .colab-df-convert:hover {\n",
              "      background-color: #E2EBFA;\n",
              "      box-shadow: 0px 1px 2px rgba(60, 64, 67, 0.3), 0px 1px 3px 1px rgba(60, 64, 67, 0.15);\n",
              "      fill: #174EA6;\n",
              "    }\n",
              "\n",
              "    [theme=dark] .colab-df-convert {\n",
              "      background-color: #3B4455;\n",
              "      fill: #D2E3FC;\n",
              "    }\n",
              "\n",
              "    [theme=dark] .colab-df-convert:hover {\n",
              "      background-color: #434B5C;\n",
              "      box-shadow: 0px 1px 3px 1px rgba(0, 0, 0, 0.15);\n",
              "      filter: drop-shadow(0px 1px 2px rgba(0, 0, 0, 0.3));\n",
              "      fill: #FFFFFF;\n",
              "    }\n",
              "  </style>\n",
              "\n",
              "      <script>\n",
              "        const buttonEl =\n",
              "          document.querySelector('#df-4fab078f-c6fa-49db-8800-c491d0662f82 button.colab-df-convert');\n",
              "        buttonEl.style.display =\n",
              "          google.colab.kernel.accessAllowed ? 'block' : 'none';\n",
              "\n",
              "        async function convertToInteractive(key) {\n",
              "          const element = document.querySelector('#df-4fab078f-c6fa-49db-8800-c491d0662f82');\n",
              "          const dataTable =\n",
              "            await google.colab.kernel.invokeFunction('convertToInteractive',\n",
              "                                                     [key], {});\n",
              "          if (!dataTable) return;\n",
              "\n",
              "          const docLinkHtml = 'Like what you see? Visit the ' +\n",
              "            '<a target=\"_blank\" href=https://colab.research.google.com/notebooks/data_table.ipynb>data table notebook</a>'\n",
              "            + ' to learn more about interactive tables.';\n",
              "          element.innerHTML = '';\n",
              "          dataTable['output_type'] = 'display_data';\n",
              "          await google.colab.output.renderOutput(dataTable, element);\n",
              "          const docLink = document.createElement('div');\n",
              "          docLink.innerHTML = docLinkHtml;\n",
              "          element.appendChild(docLink);\n",
              "        }\n",
              "      </script>\n",
              "    </div>\n",
              "  </div>\n",
              "  "
            ]
          },
          "metadata": {},
          "execution_count": 242
        }
      ],
      "source": [
        "accuracy_results_1= []\n",
        "for a in classifiers:\n",
        "  accuracy_results_1.append(round(accuracy_score(y_test, a.fit(X_train, y_train).predict(X_test))*100,2))#y_pred))\n",
        "\n",
        "eval_frame2= pd.DataFrame()\n",
        "eval_frame2['Model']= [\"KNN\", \"Logistic Regression\", \"Naive Bayes\", \"Random Forest\"]\n",
        "eval_frame2['train_test_split']= accuracy_results_1\n",
        "eval_frame2"
      ]
    },
    {
      "cell_type": "code",
      "execution_count": null,
      "metadata": {
        "id": "i5lHGMWBRlLk"
      },
      "outputs": [],
      "source": [
        "accuracy_results_2= []\n",
        "for a in classifiers:\n",
        "  pipe = make_pipeline(StandardScaler(), a)\n",
        "  accuracy_results_2.append(round(np.mean(cross_val_score(pipe, X, y, scoring= \"accuracy\", \n",
        "                                                          cv= KFold(), n_jobs= -1)*100),2))\n",
        "eval_frame2['kfold_5']= accuracy_results2"
      ]
    },
    {
      "cell_type": "code",
      "execution_count": null,
      "metadata": {
        "id": "ndsxnbS_R3kB"
      },
      "outputs": [],
      "source": [
        "accuracy_results_3= []\n",
        "for a in classifiers:\n",
        "  pipe = make_pipeline(StandardScaler(), a)\n",
        "  accuracy_results_3.append(round(np.mean(cross_val_score(pipe, X, y, scoring= \"accuracy\", \n",
        "                                                          cv= StratifiedKFold(), n_jobs= -1)*100),2))\n",
        "eval_frame2['strafifiedkfold_5']= accuracy_results_3"
      ]
    },
    {
      "cell_type": "code",
      "execution_count": null,
      "metadata": {
        "colab": {
          "base_uri": "https://localhost:8080/",
          "height": 175
        },
        "id": "8z-iGtoWSHlC",
        "outputId": "55a93eb2-8d2c-42e8-d743-b5ee38021528"
      },
      "outputs": [
        {
          "output_type": "execute_result",
          "data": {
            "text/plain": [
              "                 Model  train_test_split  kfold_5  strafifiedkfold_5  shuffle\n",
              "0                  KNN             87.21    85.61              82.84    86.83\n",
              "1  Logistic Regression             97.50    97.55              97.37    97.54\n",
              "2          Naive Bayes             79.30    93.63              79.52    79.47\n",
              "3        Random Forest             95.15    93.60              95.38    95.44"
            ],
            "text/html": [
              "\n",
              "  <div id=\"df-cbd0c91a-5848-4f28-8878-59148b37d73b\">\n",
              "    <div class=\"colab-df-container\">\n",
              "      <div>\n",
              "<style scoped>\n",
              "    .dataframe tbody tr th:only-of-type {\n",
              "        vertical-align: middle;\n",
              "    }\n",
              "\n",
              "    .dataframe tbody tr th {\n",
              "        vertical-align: top;\n",
              "    }\n",
              "\n",
              "    .dataframe thead th {\n",
              "        text-align: right;\n",
              "    }\n",
              "</style>\n",
              "<table border=\"1\" class=\"dataframe\">\n",
              "  <thead>\n",
              "    <tr style=\"text-align: right;\">\n",
              "      <th></th>\n",
              "      <th>Model</th>\n",
              "      <th>train_test_split</th>\n",
              "      <th>kfold_5</th>\n",
              "      <th>strafifiedkfold_5</th>\n",
              "      <th>shuffle</th>\n",
              "    </tr>\n",
              "  </thead>\n",
              "  <tbody>\n",
              "    <tr>\n",
              "      <th>0</th>\n",
              "      <td>KNN</td>\n",
              "      <td>87.21</td>\n",
              "      <td>85.61</td>\n",
              "      <td>82.84</td>\n",
              "      <td>86.83</td>\n",
              "    </tr>\n",
              "    <tr>\n",
              "      <th>1</th>\n",
              "      <td>Logistic Regression</td>\n",
              "      <td>97.50</td>\n",
              "      <td>97.55</td>\n",
              "      <td>97.37</td>\n",
              "      <td>97.54</td>\n",
              "    </tr>\n",
              "    <tr>\n",
              "      <th>2</th>\n",
              "      <td>Naive Bayes</td>\n",
              "      <td>79.30</td>\n",
              "      <td>93.63</td>\n",
              "      <td>79.52</td>\n",
              "      <td>79.47</td>\n",
              "    </tr>\n",
              "    <tr>\n",
              "      <th>3</th>\n",
              "      <td>Random Forest</td>\n",
              "      <td>95.15</td>\n",
              "      <td>93.60</td>\n",
              "      <td>95.38</td>\n",
              "      <td>95.44</td>\n",
              "    </tr>\n",
              "  </tbody>\n",
              "</table>\n",
              "</div>\n",
              "      <button class=\"colab-df-convert\" onclick=\"convertToInteractive('df-cbd0c91a-5848-4f28-8878-59148b37d73b')\"\n",
              "              title=\"Convert this dataframe to an interactive table.\"\n",
              "              style=\"display:none;\">\n",
              "        \n",
              "  <svg xmlns=\"http://www.w3.org/2000/svg\" height=\"24px\"viewBox=\"0 0 24 24\"\n",
              "       width=\"24px\">\n",
              "    <path d=\"M0 0h24v24H0V0z\" fill=\"none\"/>\n",
              "    <path d=\"M18.56 5.44l.94 2.06.94-2.06 2.06-.94-2.06-.94-.94-2.06-.94 2.06-2.06.94zm-11 1L8.5 8.5l.94-2.06 2.06-.94-2.06-.94L8.5 2.5l-.94 2.06-2.06.94zm10 10l.94 2.06.94-2.06 2.06-.94-2.06-.94-.94-2.06-.94 2.06-2.06.94z\"/><path d=\"M17.41 7.96l-1.37-1.37c-.4-.4-.92-.59-1.43-.59-.52 0-1.04.2-1.43.59L10.3 9.45l-7.72 7.72c-.78.78-.78 2.05 0 2.83L4 21.41c.39.39.9.59 1.41.59.51 0 1.02-.2 1.41-.59l7.78-7.78 2.81-2.81c.8-.78.8-2.07 0-2.86zM5.41 20L4 18.59l7.72-7.72 1.47 1.35L5.41 20z\"/>\n",
              "  </svg>\n",
              "      </button>\n",
              "      \n",
              "  <style>\n",
              "    .colab-df-container {\n",
              "      display:flex;\n",
              "      flex-wrap:wrap;\n",
              "      gap: 12px;\n",
              "    }\n",
              "\n",
              "    .colab-df-convert {\n",
              "      background-color: #E8F0FE;\n",
              "      border: none;\n",
              "      border-radius: 50%;\n",
              "      cursor: pointer;\n",
              "      display: none;\n",
              "      fill: #1967D2;\n",
              "      height: 32px;\n",
              "      padding: 0 0 0 0;\n",
              "      width: 32px;\n",
              "    }\n",
              "\n",
              "    .colab-df-convert:hover {\n",
              "      background-color: #E2EBFA;\n",
              "      box-shadow: 0px 1px 2px rgba(60, 64, 67, 0.3), 0px 1px 3px 1px rgba(60, 64, 67, 0.15);\n",
              "      fill: #174EA6;\n",
              "    }\n",
              "\n",
              "    [theme=dark] .colab-df-convert {\n",
              "      background-color: #3B4455;\n",
              "      fill: #D2E3FC;\n",
              "    }\n",
              "\n",
              "    [theme=dark] .colab-df-convert:hover {\n",
              "      background-color: #434B5C;\n",
              "      box-shadow: 0px 1px 3px 1px rgba(0, 0, 0, 0.15);\n",
              "      filter: drop-shadow(0px 1px 2px rgba(0, 0, 0, 0.3));\n",
              "      fill: #FFFFFF;\n",
              "    }\n",
              "  </style>\n",
              "\n",
              "      <script>\n",
              "        const buttonEl =\n",
              "          document.querySelector('#df-cbd0c91a-5848-4f28-8878-59148b37d73b button.colab-df-convert');\n",
              "        buttonEl.style.display =\n",
              "          google.colab.kernel.accessAllowed ? 'block' : 'none';\n",
              "\n",
              "        async function convertToInteractive(key) {\n",
              "          const element = document.querySelector('#df-cbd0c91a-5848-4f28-8878-59148b37d73b');\n",
              "          const dataTable =\n",
              "            await google.colab.kernel.invokeFunction('convertToInteractive',\n",
              "                                                     [key], {});\n",
              "          if (!dataTable) return;\n",
              "\n",
              "          const docLinkHtml = 'Like what you see? Visit the ' +\n",
              "            '<a target=\"_blank\" href=https://colab.research.google.com/notebooks/data_table.ipynb>data table notebook</a>'\n",
              "            + ' to learn more about interactive tables.';\n",
              "          element.innerHTML = '';\n",
              "          dataTable['output_type'] = 'display_data';\n",
              "          await google.colab.output.renderOutput(dataTable, element);\n",
              "          const docLink = document.createElement('div');\n",
              "          docLink.innerHTML = docLinkHtml;\n",
              "          element.appendChild(docLink);\n",
              "        }\n",
              "      </script>\n",
              "    </div>\n",
              "  </div>\n",
              "  "
            ]
          },
          "metadata": {},
          "execution_count": 245
        }
      ],
      "source": [
        "accuracy_results_4= []\n",
        "for a in classifiers:\n",
        "  pipe = make_pipeline(StandardScaler(), a)\n",
        "  accuracy_results_4.append(round(np.mean(cross_val_score(pipe, X, y, scoring= \"accuracy\", \n",
        "                                                          cv= ShuffleSplit(n_splits=5, test_size= 0.3), n_jobs= -1)*100),2))\n",
        "eval_frame2['shuffle']= accuracy_results_4\n",
        "eval_frame2"
      ]
    },
    {
      "cell_type": "code",
      "source": [
        "#eval_frame2.to_csv('encoded_classification_evaluate.csv', index=False)"
      ],
      "metadata": {
        "id": "12jBnKx4RZvV"
      },
      "execution_count": null,
      "outputs": []
    },
    {
      "cell_type": "code",
      "source": [
        "best_classifier= classifiers[accuracy_results_1.index(max(accuracy_results_1))]\n",
        "best_classifier"
      ],
      "metadata": {
        "colab": {
          "base_uri": "https://localhost:8080/"
        },
        "id": "Ik0VhCNZ_0Fp",
        "outputId": "c5f2b1e8-3d63-489f-8bdf-daaa3908f9ee"
      },
      "execution_count": null,
      "outputs": [
        {
          "output_type": "execute_result",
          "data": {
            "text/plain": [
              "LogisticRegression()"
            ]
          },
          "metadata": {},
          "execution_count": 247
        }
      ]
    },
    {
      "cell_type": "code",
      "source": [
        "print(classification_report(y_test, best_classifier.fit(X_train, y_train).predict(X_test)))"
      ],
      "metadata": {
        "colab": {
          "base_uri": "https://localhost:8080/"
        },
        "outputId": "a68f8d9f-2e45-4450-95e1-69a2c3fea074",
        "id": "01YmKL2k4MuF"
      },
      "execution_count": null,
      "outputs": [
        {
          "output_type": "stream",
          "name": "stdout",
          "text": [
            "              precision    recall  f1-score   support\n",
            "\n",
            "           0       0.98      0.96      0.97     20396\n",
            "           1       0.97      0.99      0.98     24734\n",
            "\n",
            "    accuracy                           0.98     45130\n",
            "   macro avg       0.98      0.97      0.97     45130\n",
            "weighted avg       0.98      0.98      0.98     45130\n",
            "\n"
          ]
        }
      ]
    },
    {
      "cell_type": "code",
      "source": [
        "#report= classification_report(y_test, best_classifier.fit(X_train, y_train).predict(X_test),output_dict=True)\n",
        "#pd.DataFrame(report).T.to_csv('classification_report.csv')"
      ],
      "metadata": {
        "id": "L5VYNKCxRtoI"
      },
      "execution_count": null,
      "outputs": []
    },
    {
      "cell_type": "markdown",
      "source": [
        "Precision shows how much of our positive guesses were actually positive.\n",
        "\n",
        "Recall gives how much positive we guessed correctly out of all positive results.\n",
        "\n",
        "The f1-score gives the harmonic mean of precision and recall.\n",
        "<div>\n",
        "<img src=\"https://inside-machinelearning.com/wp-content/uploads/2021/09/F1-Score.png\" width=\"400\"/>\n",
        "</div>"
      ],
      "metadata": {
        "id": "0MpiGp-U47h4"
      }
    },
    {
      "cell_type": "code",
      "source": [
        "best_classifier.fit(X_train, y_train)\n",
        "cf_matrix = confusion_matrix(y_test, best_classifier.predict(X_test))\n",
        "\n",
        "fig, (ax1, ax2) = plt.subplots(1, 2, figsize = (12,5))\n",
        "fig.suptitle(str(best_classifier).split('(')[0].lstrip(), fontsize=20, y=1.04)\n",
        "ax1.set_title('Confusion matrix', y=1.02)\n",
        "ax2.set_title('Receiver operating characteristic (ROC) Curve', y=1.02)\n",
        "ax2.plot([0,1], [0,1], 'r--', alpha=.4)\n",
        "    \n",
        "sns.heatmap(cf_matrix/np.sum(cf_matrix), annot=True, \n",
        "            fmt='.2%', cmap='Blues', ax=ax1)\n",
        "ax1.set_ylabel('Actual')\n",
        "ax1.set_xlabel('Predicted')\n",
        "\n",
        "plot_roc_curve(best_classifier, X_test, y_test, ax=ax2)\n",
        "#plt.savefig('ROC_curve-confusion_matrix.png', bbox_inches = 'tight', dpi=200)\n",
        "plt.show();"
      ],
      "metadata": {
        "colab": {
          "base_uri": "https://localhost:8080/",
          "height": 391
        },
        "id": "pYhdaCW80NkX",
        "outputId": "ee3cef78-3895-498b-c77d-e458af40dfe8"
      },
      "execution_count": null,
      "outputs": [
        {
          "output_type": "display_data",
          "data": {
            "text/plain": [
              "<Figure size 864x360 with 3 Axes>"
            ],
            "image/png": "[encoded data removed]"
          },
          "metadata": {
            "needs_background": "light"
          }
        }
      ]
    },
    {
      "cell_type": "markdown",
      "source": [
        "ROC Curve shows the performance of a classification model at two classification thresholds; true positive rate and false positive rate. <br>\n",
        "Area under the ROC Curve (AUC) gives the aggregate performance of the classification model. Our AUC for the logistic regression model covers 98% of the all performance evaluation area."
      ],
      "metadata": {
        "id": "20q8nnH-1aPs"
      }
    }
  ],
  "metadata": {
    "colab": {
      "collapsed_sections": [],
      "name": "DataCo_Supply_Chain_Analytics2.ipynb",
      "provenance": [],
      "toc_visible": true
    },
    "interpreter": {
      "hash": "9aa91129fc264c0bfe66b9e9b3b348d0ea4758a6e902e0cab44a9e6feb0ff319"
    },
    "kernelspec": {
      "display_name": "Python 3.8.8 64-bit ('base': conda)",
      "language": "python",
      "name": "python3"
    },
    "language_info": {
      "codemirror_mode": {
        "name": "ipython",
        "version": 3
      },
      "file_extension": ".py",
      "mimetype": "text/x-python",
      "name": "python",
      "nbconvert_exporter": "python",
      "pygments_lexer": "ipython3",
      "version": "3.8.8"
    }
  },
  "nbformat": 4,
  "nbformat_minor": 0
}